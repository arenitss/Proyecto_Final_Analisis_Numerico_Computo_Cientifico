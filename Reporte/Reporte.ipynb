{
 "cells": [
  {
   "cell_type": "code",
   "execution_count": 1,
   "metadata": {},
   "outputs": [],
   "source": [
    "import numpy as np\n",
    "import pandas as pd\n",
    "import statsmodels.api as sm\n",
    "import statsmodels.formula.api as smf\n",
    "import io\n",
    "import sys\n",
    "import os\n",
    "from pytest import approx\n",
    "from sklearn.preprocessing import StandardScaler\n",
    "from sklearn.decomposition import PCA\n",
    "from sklearn.metrics import roc_curve, roc_auc_score"
   ]
  },
  {
   "cell_type": "code",
   "execution_count": 2,
   "metadata": {},
   "outputs": [],
   "source": [
    "# Importar funciones de utils\n",
    "module_path = os.path.abspath(os.path.join('..'))\n",
    "if module_path not in sys.path:\n",
    "    sys.path.append(module_path+\"/utils\")\n",
    "\n",
    "from utils import *"
   ]
  },
  {
   "cell_type": "code",
   "execution_count": 3,
   "metadata": {},
   "outputs": [],
   "source": [
    "np.set_printoptions(precision=3, suppress=True)"
   ]
  },
  {
   "cell_type": "markdown",
   "metadata": {},
   "source": [
    "# Estimación de probabilidades de incumplimiento\n",
    "## Proyecto Final Optimización\n",
    "\n",
    "Curso impartido por el profesor:\n",
    "* Erick Palacios Moreno\n",
    "\n",
    "Proyecto realizado por los estudiantes:\n",
    "* Yedam Fortiz\n",
    "* Nayeli Arenas\n",
    "* Oscar Pérez\n",
    "* Eduardo Moreno Ortiz\n",
    "\n",
    "Este resuelve un **problema de optimización convexo** con el fin de estimar probabilidades de incumplimiento, esto es, de que un crédito sea catalogado como *default* (se define en general como la probabilidad de que un acreditado no cumpla con las obligaciones de su crédito durante $90$ días o más). La estructura del proyecto es la siguiente\n",
    "\n",
    "a. Análisis exploratorio de la base de datos: **EDA/GEDA**\n",
    "\n",
    "\ta.1 Describir la estructura de los datos\n",
    "\t\n",
    "\ta.2 Describir relaciones entre variables\n",
    "\t\n",
    "\ta.3 Mostrar gráficas y resultados (tablas) relevantes\n",
    "\t\n",
    "b. Modelo de Regresión Logística para obtención de Probabilidades de incumplimiento en el tiempo: **Modelling 1**\n",
    "\t\n",
    "\tc.1 Selección de Técnica.\n",
    "\t\n",
    "\tc.2 Obtención de Parámetros.\n",
    "\t\n",
    "\tc.3 Análisis de medidas de validación.\n",
    "\t\n",
    "\tc.4 Proyección o estimación.\n",
    "    \n",
    "    c.5 Implementación del modelo incluyendo componentes principales\n",
    "\t\n",
    "c. Modelo de Regresión para uso en Credit Scoring (sobre el mapeo de WOE's): **Modelling 2**\n",
    "\t\n",
    "\td.1 Selección de Técnica.\n",
    "\t\n",
    "\td.2 Obtención de Parámetros.\n",
    "\t\n",
    "\td.3 Análisis de medidas de validación.\n",
    "\t\n",
    "d. Conclusiones\n",
    "\n",
    "e. Software y referencias\n",
    "\n",
    "\n",
    "## Introducción\n",
    "\n",
    "La obtención de probabilidades de incumplimiento es una parte fundamental en la toma de decisiones en las instituciones de crédito. La **probabilidad de incumplimiento** se define en general como la probabilidad de que un acreditado no cumpla con las obligaciones de su crédito durante $90$ días o más. Generalmente se cree que la probabilidad de incumplimiento es una cantidad que puede ser tomada como una etiqueta y que esa misma etiqueta puede usarse para definir tasas de productos (*pricing*), análisis temporal o credit scoring. En este trabajo se mostrarán $2$ aplicaciones para el cálculo de probabilidad de incumplimiento.\n",
    "\n",
    "Si el lector se llegase a preguntar *¿por qué la estimación de la probabilidad de incumplimiento es importante?* La importancia recae en el papel fundamental que tiene el proceso de calificación crediticia para el funcionamiento eficiente de los mercados de crédito y en última instancia para la estabilidad y la salud del sistema financiero y de las economías nacionales cada vez más interconectadas dentro del entramado global. \n",
    "Un proceso de calificación crediticia robusto y preciso permite a los acreedores ponderar de forma informada los riesgos asociados a un prospecto de inversión contra los potenciales rendimientos ofrecidos por éste. Estas tomas de decisiones informadas canalizan los fondos de diversos proveedores de capital con diferentes apetitos de riesgo hacia las diferentes inversiones y necesidades de consumo que mantienen a nuestras economías en constante movimiento.\n",
    "Es por ende imprescindible poder contar con un modelo que permita asignar probabilidades de incumplimiento y predecir el comportamiento del deudor sobre la base de un conjunto de variables con una aportación ligada de forma plenamente identificable al desempeño de la inversión de crédito. \n",
    "\n",
    "\n",
    "### Objetivo:\n",
    "\n",
    "Comparar modelos obtenidos por metodologías distintas (vistas en el curso *vs* metodologías implementadas en módulos de `Python`), los cuales permiten calcular la estimación de probabilidades de incumplimiento. Se tomará como referencia los modelos obtenidos \n",
    "del módulo [`statsmodel.api`](https://www.statsmodels.org/stable/examples/notebooks/generated/glm_formula.html).\n",
    "\n",
    "\n",
    "## Problema de optimización\n",
    "\n",
    "Con el objetivo de obtener probabilidades (cumplen con los [axiomas de Kolmogorov](https://es.wikipedia.org/wiki/Axiomas_de_probabilidad#:~:text=Los%20axiomas%20de%20probabilidad%20son,formulados%20por%20Kolmog%C3%B3rov%20en%201933.)  ) se utiliza la regresión logística, que implícitamente hace mención a la función sigmoide $\\sigma: \\mathbb{R} \\rightarrow \\mathbb{R}$, que tiene la siguiente regla de correspondencia:\n",
    "\n",
    "$$\\Large \\sigma(x) = \\frac{1}{1+exp(-x)} $$\n",
    "\n",
    "El objetivo del proyecto es la estimación de la probabilidad de incumplimiento (o bien que un pago sea catalogado como *default*). Para ello se identifica las siguientes $2$ clases:\n",
    "\n",
    "* $C_1$: el préstamo es catalogado como default (no cumple con las obligaciones de pago)\n",
    "* $C_0$: el préstamo es catalogado como no default (sí cumple con las obligaciones de pago)\n",
    "\n",
    "Utilizando la función sigmoide estimaremos la probabilidad de pertenecer a la clase $C_1$ dado una serie de métricas/variables $x \\in \\mathbb{R}^n$:\n",
    "\n",
    "$$\\Large \\mathbb{P}[C_1|x] = \\sigma(a), \\text{ para alguna } a \\in \\mathbb{R} $$\n",
    "\n",
    "\n",
    "Utilizando el [Teorema de Bayes](https://es.wikipedia.org/wiki/Teorema_de_Bayes) es posible llegar al siguiente resultado:\n",
    "\n",
    "$$\\Large \\mathbb{P}[C_1|x] = \\frac{ \\mathbb{P}[x|C_1] \\mathbb{P}[C_1]  } { \\mathbb{P}[x|C_1] \\mathbb{P}[C_1] + \\mathbb{P}[x|C_0] \\mathbb{P}[C_0] } = \\frac{1} {1 + \\frac{ \\mathbb{P}[x|C_1] \\mathbb{P}[C_1] }{ \\mathbb{P}[x|C_0] \\mathbb{P}[C_0] } } = \\sigma(a) = \\frac{1}{1+exp(-a)} $$\n",
    "\n",
    "\n",
    "Por lo tanto,\n",
    "\n",
    "$$\\Large a(x) = log( \\frac{ \\mathbb{P}[x|C_1] \\mathbb{P}[C_1] }{ \\mathbb{P}[x|C_0] \\mathbb{P}[C_0] } ) $$\n",
    "\n",
    "\n",
    "El modelo de regresión logística (para $2$ clases) parte de un modelo lineal en sus parámetros $\\beta \\in \\mathbb{R}^n$ (donde $n$ indica la cantidad de variables/métricas a medir). Se añade un parámetro adicional $\\beta_0$, por lo que el modelo tiene la siguiente forma:\n",
    "\n",
    "$$\\Large \\beta^Tx + \\beta_0= a(x|\\beta, \\beta_0) = log( \\frac{ \\mathbb{P}[C_1|x]  }{ \\mathbb{P}[C_0|x]  } )  $$\n",
    "\n",
    "Si $y$ es tomada como variable de respuesta, entonces se obtiene que está en función de $x \\in \\mathbb{R}^{n+1}$ dado el vector $\\beta_0, \\beta$. La regla de correspondencia es la siguiente:\n",
    "\n",
    "$$\\Large \\mathbb{P}[C_1|x] = y(x | \\beta_0, \\beta) = \\frac{ 1 } {1+exp(-(\\beta_0 + \\beta^Tx)) }  $$\n",
    "\n",
    "En donde, la variable de optimización es $(\\beta_0, \\beta) \\in \\mathbb{R}^{n+1}$\n",
    "\n",
    "Para el ajuste de los parámetros se utiliza la [metodología estudiada en el curso](https://itam-ds.github.io/analisis-numerico-computo-cientifico/III.optimizacion_convexa/3.3/Ejemplos_problemas_UCO_e_intro_CIEO_y_PI.html#como-se-ajustan-los-parametros-del-modelo-por-regresion-logistica-de-dos-clases), que se basa en maximizar la [función de verosimilitud](https://es.wikipedia.org/wiki/Funci%C3%B3n_de_verosimilitud#:~:text=En%20estad%C3%ADstica%2C%20la%20funci%C3%B3n%20de,de%20un%20conjunto%20de%20observaciones.), que es equivalente a minimizar la función log-verosimilitud, el cual es equivalente a minimizar la [devianza](https://en.wikipedia.org/wiki/Deviance_(statistics)):\n",
    "\n",
    "$$ \\Large \\text{min}_{\\beta_0,\\beta_1 \\in \\mathbb{R}^{n+1}} D(\\beta_0, \\beta|x) = -2 l(\\beta_0, \\beta|x) = \\sum_{i=1}^m \\text{log}( 1 + exp( (\\beta_0,\\beta )^Tx_i ) ) -\\hat{y}_i(\\beta_0,\\beta )^Tx_i $$\n",
    "\n",
    "En las notas del curso, se demuestra que la Hessiana de la devianza es una matriz simétrica semidefinida positiva y por tanto la función planteada previamente es una función convexa. Por lo que, en este proyecto se resolverá un **problema optimización (minimización) convexo.**\n",
    "\n",
    "Este análisis minusioso de la función sigmoide y desarrollo matemático fue tomado del libro de [Optimización](https://itam-ds.github.io/analisis-numerico-computo-cientifico/README.html) cuyo autor es el profesor **Erick Palacios Moreno**.\n",
    "\n",
    "## Herramientas adicionales del curso de Optimización\n",
    "### Cálculo de componentes principales mediante el uso del método de la potencia y deflación\n",
    "\n",
    "\n",
    "Para reducir la dimensionalidad se utilizará la metodología de Análisis de Componentes Principales (*PCA* por sus siglas en inglés). En el cual se basa en la obtención de los eigenvectores y eigenvalores de la matriz de covarianza de las variables a las cuales se busca reducir la dimensión. Para este proyecto, se utilizará únicamente la primera y segunda componente principal, las cuales serán calculadas mediante el uso del método de la potencia y deflación respectivamente. Tal y como se estudió en el curso, el método de la potencia ayuda a encontrar el eigenvector asociado al eigenvalor de máximo módulo, para encontar el segundo eigenvalor de máximo módulo se utiliza el siguiente resultado matemático, que hace referencia al método de deflación:\n",
    " * Teorema: sea $A$ una matriz de $n\\text{x}n$ con eigenvalores $\\lambda_1, \\lambda_2, ... , \\lambda_n$ con respectivos eigenvectores $v_1, v_2, ..., v_n$ (todos de norma unitaria). Entonces la matriz, \n",
    " $$ B = A - \\lambda_1 v_1v_T $$\n",
    " tiene eigenvalores $0, \\lambda_2, \\lambda_3, ..., \\lambda_n$ y eigenvectores respectivos $v_1, v_2, ... , v_n$. \n",
    "\n",
    "\n",
    "## Datos:\n",
    "\n",
    "Para cumplir con el objetivo y los puntos de este proyecto, se utilizará la información de 60 trimestres de 5,000 créditos hipotecarios de Estados Unidos tomada de portafolios bursatilizados (RMBSs) a partir del año 2000 hasta 2015. El proveedor de la base es la instutición estadounidense [**International Financial Reasearch**](http://www.internationalfinancialresearch.org/). Cabe mencionar, que se  tiene acceso a ella por la adquisición del libro *Deep Credit Risk de Daniel Rosch y Harald Scheule*, el cual es la principal fuente de este proyecto.\n",
    "Dentro de la base de datos cada observación (*renglón*) corresponde a un préstamo otorgado por la institución hipotecaria.\n",
    "\n",
    "A continuación, se enunciará y describirán las variables que posee la base de datos:\n",
    "\n",
    "1. *id*.- clave única por respondiente, dado que los préstamos se otorgan por distintos periodos de tiempo, el valor de esta variable se repite por varios préstamos (*renglones*).\n",
    "\n",
    "1. *time*.- periodo observado identificado como trimestres deade el año $2000$ hasta $2015$, de tal manera que, $1$ corresponde al primer trimestre del año $2000$, $2$ al segundo trimestre del año $2000$, ...\n",
    "\n",
    "1. *orig_time*.- trimestre en el que se otorgó el crédito. Si se otorgó previo al 2000, el número es negativo.\n",
    "\n",
    "1. *first_time*.- trimestre en el que aparece el crédito se da de alta a la base de datos.\n",
    "\n",
    "1. *mat_time*.- plazo del crédito (las unidades son trimestres).\n",
    "\n",
    "1. *res_time*.- trimestre en el que se recuperó la vivienda.\n",
    "\n",
    "1. *balance_time*.- saldo del respondiente al trimestre de observación. La unidad de medición son dólares americanos.\n",
    "\n",
    "1. *LTV_time*.- Loan to Value a la originación (endeudamiento de un activo en relación con su valor real y actual). Para obtener una descripción más detallada se recomienda visitar el siguiente [link](https://www.ilpabogados.com/que-es-el-loan-to-value-ltv-y-por-que-es-relevante/). La unidad de medición son dólares americanos.\n",
    "\n",
    "1. *interest_rate_time*.- tasa de interés en el trimestre correspondiente.\n",
    "\n",
    "1. *rate_time*.- tasa libre de riesgo en el trimestre correspondiente.\n",
    "\n",
    "1. *hpi_time*.- índice de precios de casas en el trimestre correspondiente.\n",
    "\n",
    "1. *gdp_time*.- tasa de crecimiento del PIB en el trimestre correspondiente.\n",
    "\n",
    "1. *uer_time*.- tasa de desempleo del trimestre correspondiente.\n",
    "\n",
    "1. *REtype_CO_orig_time*.- identificador de condominio (condominio 1, en otro caso 0)\n",
    "\n",
    "1. *REtype_PU_orig_time*.- identificador de desarrollo urbano (desarrollo urbano 1, en otro caso 0)\n",
    "\n",
    "1. *REtype_SF_orig_time*.- identificador de vivienda familia unitaria (vivienda para una sola familia 1, en otro caso 0)\n",
    "\n",
    "1. *investor_orig_time*.- identificador de  desarrollador, el cual es similar a una empresa dedicada a la construcción de hogares y viviendas (la casa fue construía por un desarrollador  1, en otro caso 0)\n",
    "\n",
    "1. *balance_orig_time*.- monto del préstamo otorgado, las unidades de medición son dólares americanos.\n",
    "\n",
    "1. *FICO_orig_time*.- [FICO score](https://www.ficoscore.com/ficoscore/pdf/Understanding-FICO-Scores-SPANISH.pdf) en el momento de originar el préstamo.\n",
    "\n",
    "1. *LTV_orig_time*.- Loan to Value al momento de la originación del préstamo (las unidades de medición son dólares americanos).\n",
    "\n",
    "1. *Interest_Rate_orig_time*.- tasa de interés del préstamo otorgado en el momento de la originación.\n",
    "\n",
    "1. *state_orig_time*.- Estado de la unión americana donde se encuentra la vivienda (52 estados en total).\n",
    "\n",
    "1. *hpi_orig_time*.- índice de precios de casa al momento de la originación.\n",
    "\n",
    "1. *default_time*.- indicadora de incumplimiento de pago (no se cumplió con la obligación de pagar el préstamo dado el trimestre correspondiente 1, en otro caso 0).\n",
    "\n",
    "1. *payoff_time*.- indicadora de liquidación (liquidación 1, en otro caso 0).\n",
    "\n",
    "1. *status_time*.- variable categórica con 3 niveles: 1 préstamo se declaró en default (no se cumplió con la obligación de pagarlo), 2 (se cumplió con la obligación de pagar), 0 en otro caso.\n",
    "\n",
    "1. *lgd_time*.- [Loss given default](https://accionistaseinversores.bbva.com/microsites/informes2009/es/Gestiondelriesgo/Severidadlgd.html) o severidad al momento del default, las unidades de medición son dólares americanos.\n",
    "\n",
    "1. *recovery_res*.- suma de los flujos recibidos durante el periodo de resolución, las unidades de medición son dólares americanos o bien, es el monto de  dinero que se recupera por adjudicar o quitar un inmueble.\n",
    "\n",
    "\n",
    "## Pasos a seguir para resolver los problemas de optimización y de estimación de componentes principales\n",
    "\n",
    "El *pseudo-algoritmo* a seguir para la aproximación a las componentes principales y de las estimaciones a la probabilidad de incumplimiento es el siguiente:\n",
    "\n",
    "1. Obtener el modelo de regresión logística tomando en cuenta las variables denominadas variables explicativas: se utilizará la función `fsolve` y `cvxpy` que nos ayudan a minimizar una función convexa.\n",
    "1. Comparar el modelo obtenido en el paso anterior con el modelo obtenido con la función `smf` de la librería `glm`.\n",
    "1. Cálculo de las primera y segunda componente principal: se utilizará el método de la potencia y de deflación.\n",
    "1. Comparar dichas componentes principales con las obtenidas con la función `pca` que realiza dicho cómputo.\n",
    "1. Incorporar las componentes principales al conjunto de variables explicativas y obtener otro modelo de regresión logística.\n",
    "1. Comparar el modelo obtenido en el paso anterior con el modelo obtenido con la función `smf` de la librería `glm`.\n",
    "1. Cálculo del modelo para las estimaciones de probabilidad de incumplimiento utilizando la metodología de Credit-Scoring: se utilizará la función `fsolve` y `cvxpy` que nos ayudan a minimizar una función convexa.\n",
    "1. Comparar el modelo obtenido en el paso anterior con el modelo obtenido con la función `smf` de la librería `glm`.\n",
    "\n",
    "\n",
    "### Integrantes y asignación de tareas del equipo\n",
    "\n",
    "|User | Nombre Completo| Tarea |\n",
    "|:---:|:---:|:---:|\n",
    "|@oaperez3|Oscar Perez|Project manager, levantamiento de instancia en AWS, implementación de metodología, responder preguntas\n",
    "|@Eduardo-Moreno|Eduardo Moreno|Investigación de variables, implementación metodología, responder preguntas\n",
    "|@yefovar|Yedam Fortiz|Testing, estudio de parte matemática, expositor\n",
    "|@arenitss|Nayeli Arenas|Redacción, revisón de resultados, expositor\n",
    "\n",
    "\n"
   ]
  },
  {
   "cell_type": "markdown",
   "metadata": {},
   "source": [
    "# a. Análisis Exploratorio de Datos (*EDA*)"
   ]
  },
  {
   "cell_type": "markdown",
   "metadata": {},
   "source": [
    "### Lectura y preparación de datos"
   ]
  },
  {
   "cell_type": "code",
   "execution_count": 4,
   "metadata": {},
   "outputs": [],
   "source": [
    "data = pd.read_csv('../data_t_final.csv')"
   ]
  },
  {
   "cell_type": "markdown",
   "metadata": {},
   "source": [
    "Las dimensiones (cantidad de variables y observaciones) son"
   ]
  },
  {
   "cell_type": "code",
   "execution_count": 5,
   "metadata": {},
   "outputs": [
    {
     "name": "stdout",
     "output_type": "stream",
     "text": [
      "Cantidad de observaciones (renglones):  62178\n",
      "Cantidad de variables:  28\n"
     ]
    }
   ],
   "source": [
    "print('Cantidad de observaciones (renglones): ', data.shape[0])\n",
    "print('Cantidad de variables: ', data.shape[1])"
   ]
  },
  {
   "cell_type": "markdown",
   "metadata": {},
   "source": [
    "Las variables con las que cuenta el `dataset` son las siguientes"
   ]
  },
  {
   "cell_type": "code",
   "execution_count": 6,
   "metadata": {},
   "outputs": [
    {
     "name": "stdout",
     "output_type": "stream",
     "text": [
      "id\n",
      "time\n",
      "orig_time\n",
      "first_time\n",
      "mat_time\n",
      "res_time\n",
      "balance_time\n",
      "LTV_time\n",
      "interest_rate_time\n",
      "rate_time\n",
      "hpi_time\n",
      "gdp_time\n",
      "uer_time\n",
      "REtype_CO_orig_time\n",
      "REtype_PU_orig_time\n",
      "REtype_SF_orig_time\n",
      "investor_orig_time\n",
      "balance_orig_time\n",
      "FICO_orig_time\n",
      "LTV_orig_time\n",
      "Interest_Rate_orig_time\n",
      "state_orig_time\n",
      "hpi_orig_time\n",
      "default_time\n",
      "payoff_time\n",
      "status_time\n",
      "lgd_time\n",
      "recovery_res\n"
     ]
    }
   ],
   "source": [
    "for column in data.columns:\n",
    "    print(column)"
   ]
  },
  {
   "cell_type": "markdown",
   "metadata": {},
   "source": [
    "### Datos faltantes"
   ]
  },
  {
   "cell_type": "markdown",
   "metadata": {},
   "source": [
    "La proporción de valores faltantes por cada variables se muestra a continuación:"
   ]
  },
  {
   "cell_type": "code",
   "execution_count": 7,
   "metadata": {},
   "outputs": [
    {
     "data": {
      "text/plain": [
       "id                         0.000000\n",
       "time                       0.000000\n",
       "orig_time                  0.000000\n",
       "first_time                 0.000000\n",
       "mat_time                   0.000000\n",
       "res_time                   0.981344\n",
       "balance_time               0.000000\n",
       "LTV_time                   0.000402\n",
       "interest_rate_time         0.000000\n",
       "rate_time                  0.000000\n",
       "hpi_time                   0.000000\n",
       "gdp_time                   0.000000\n",
       "uer_time                   0.000000\n",
       "REtype_CO_orig_time        0.000000\n",
       "REtype_PU_orig_time        0.000000\n",
       "REtype_SF_orig_time        0.000000\n",
       "investor_orig_time         0.000000\n",
       "balance_orig_time          0.000000\n",
       "FICO_orig_time             0.000000\n",
       "LTV_orig_time              0.000000\n",
       "Interest_Rate_orig_time    0.000000\n",
       "state_orig_time            0.005629\n",
       "hpi_orig_time              0.000000\n",
       "default_time               0.000000\n",
       "payoff_time                0.000000\n",
       "status_time                0.000000\n",
       "lgd_time                   0.975474\n",
       "recovery_res               0.975474\n",
       "dtype: float64"
      ]
     },
     "execution_count": 7,
     "metadata": {},
     "output_type": "execute_result"
    }
   ],
   "source": [
    "data.isna().mean()"
   ]
  },
  {
   "cell_type": "markdown",
   "metadata": {},
   "source": [
    "Las variables con mayor cantidad de valores faltantes son:\n",
    "1. `res_time`.- periodo en el que se recuperó la vivienda.\n",
    "1. `lgd_time`.- severidad al momento del default (declaración de incumplimiento de pago).\n",
    "1. `recovery_res`.- suma de los flujos recibidos durante el periodo de resolución\n",
    "1. `LTV_time`.- *Loan to Value* en el momento de la originación\n",
    "1. `state_orig_time`.- Estado de la unión americana en donde se originó el préstamo\n",
    "\n",
    "Se desconoce la razón real por la cual hay una cantidad muy alta de valores faltantes para dichas variables, sin embargo, se cree lo siguiente para las primeras $3$ variables:\n",
    " \n",
    "* No se le dio el seguimiento requerido para capturar la fecha en la cual se recuperó la vivienda.\n",
    "* No fue posible estimar la severidad o los montos por adjudicar bienes debido a falta de información (bienes mal valuados).\n",
    "* Víctima de cyberataque.\n",
    "* Fallo en los servidores que guardan la información.\n"
   ]
  },
  {
   "cell_type": "markdown",
   "metadata": {},
   "source": [
    "Para las primeras $3$ variables la cantidad de valores faltantes es demasiado alta, de manera que si se omitieran dichos valores faltantes, entonces la base de datos contaría aproximadamente con el $2\\%$ de las observaciones originales, por lo que se omitirán dichas variables y posteriormente se omitirán los valores faltantes que corresponden aproximadamente al $0.5629\\%$. Cabe recalcar que se omiten debido a que si no se hiciese de tal manera se perdería la mayoría de la información que se encuentra en la base de datos y no se podría seguir con el análisis."
   ]
  },
  {
   "cell_type": "code",
   "execution_count": 8,
   "metadata": {},
   "outputs": [
    {
     "data": {
      "text/plain": [
       "id                         0.0\n",
       "time                       0.0\n",
       "orig_time                  0.0\n",
       "first_time                 0.0\n",
       "mat_time                   0.0\n",
       "balance_time               0.0\n",
       "LTV_time                   0.0\n",
       "interest_rate_time         0.0\n",
       "rate_time                  0.0\n",
       "hpi_time                   0.0\n",
       "gdp_time                   0.0\n",
       "uer_time                   0.0\n",
       "REtype_CO_orig_time        0.0\n",
       "REtype_PU_orig_time        0.0\n",
       "REtype_SF_orig_time        0.0\n",
       "investor_orig_time         0.0\n",
       "balance_orig_time          0.0\n",
       "FICO_orig_time             0.0\n",
       "LTV_orig_time              0.0\n",
       "Interest_Rate_orig_time    0.0\n",
       "state_orig_time            0.0\n",
       "hpi_orig_time              0.0\n",
       "default_time               0.0\n",
       "payoff_time                0.0\n",
       "status_time                0.0\n",
       "dtype: float64"
      ]
     },
     "execution_count": 8,
     "metadata": {},
     "output_type": "execute_result"
    }
   ],
   "source": [
    "selected_data = data.drop(['res_time', 'lgd_time', 'recovery_res'], axis=1).dropna()\n",
    "selected_data.isna().mean()"
   ]
  },
  {
   "cell_type": "code",
   "execution_count": 9,
   "metadata": {},
   "outputs": [
    {
     "name": "stdout",
     "output_type": "stream",
     "text": [
      "Cantidad de observaciones (renglones):  61803\n",
      "Cantidad de variables:  25\n"
     ]
    }
   ],
   "source": [
    "print('Cantidad de observaciones (renglones): ', selected_data.shape[0])\n",
    "print('Cantidad de variables: ', selected_data.shape[1])"
   ]
  },
  {
   "cell_type": "code",
   "execution_count": 10,
   "metadata": {},
   "outputs": [
    {
     "name": "stdout",
     "output_type": "stream",
     "text": [
      "Porcentaje de observaciones (renglones) pérdidas:  0.6031072083373488 %\n",
      "Porcentaje de variables pérdidas:  10.714285714285708 %\n"
     ]
    }
   ],
   "source": [
    "print('Porcentaje de observaciones (renglones) pérdidas: ', 100- selected_data.shape[0]/data.shape[0]*100, '%')\n",
    "print('Porcentaje de variables pérdidas: ',100- selected_data.shape[1]/data.shape[1]*100, '%')"
   ]
  },
  {
   "cell_type": "markdown",
   "metadata": {},
   "source": [
    "Se pierde menos del $1\\%$ de información al omitir los obervaciones en donde se tenía valores faltantes ya fuese en la variable `state_orig_time` y/o `LTV_time`, el cual no es un porcentaje alto y la pérdida de información es mínima."
   ]
  },
  {
   "cell_type": "markdown",
   "metadata": {},
   "source": [
    "### Exploración de datos - estructura de variables"
   ]
  },
  {
   "cell_type": "markdown",
   "metadata": {},
   "source": [
    "El `dataset` con el que se trabajará en el presente documento tiene la siguiente estructura"
   ]
  },
  {
   "cell_type": "code",
   "execution_count": 11,
   "metadata": {},
   "outputs": [
    {
     "data": {
      "text/html": [
       "<div>\n",
       "<style scoped>\n",
       "    .dataframe tbody tr th:only-of-type {\n",
       "        vertical-align: middle;\n",
       "    }\n",
       "\n",
       "    .dataframe tbody tr th {\n",
       "        vertical-align: top;\n",
       "    }\n",
       "\n",
       "    .dataframe thead th {\n",
       "        text-align: right;\n",
       "    }\n",
       "</style>\n",
       "<table border=\"1\" class=\"dataframe\">\n",
       "  <thead>\n",
       "    <tr style=\"text-align: right;\">\n",
       "      <th></th>\n",
       "      <th>id</th>\n",
       "      <th>time</th>\n",
       "      <th>orig_time</th>\n",
       "      <th>first_time</th>\n",
       "      <th>mat_time</th>\n",
       "      <th>balance_time</th>\n",
       "      <th>LTV_time</th>\n",
       "      <th>interest_rate_time</th>\n",
       "      <th>rate_time</th>\n",
       "      <th>hpi_time</th>\n",
       "      <th>...</th>\n",
       "      <th>investor_orig_time</th>\n",
       "      <th>balance_orig_time</th>\n",
       "      <th>FICO_orig_time</th>\n",
       "      <th>LTV_orig_time</th>\n",
       "      <th>Interest_Rate_orig_time</th>\n",
       "      <th>state_orig_time</th>\n",
       "      <th>hpi_orig_time</th>\n",
       "      <th>default_time</th>\n",
       "      <th>payoff_time</th>\n",
       "      <th>status_time</th>\n",
       "    </tr>\n",
       "  </thead>\n",
       "  <tbody>\n",
       "    <tr>\n",
       "      <th>0</th>\n",
       "      <td>4</td>\n",
       "      <td>25</td>\n",
       "      <td>-2</td>\n",
       "      <td>25</td>\n",
       "      <td>119</td>\n",
       "      <td>61031.10</td>\n",
       "      <td>33.911009</td>\n",
       "      <td>10.500</td>\n",
       "      <td>5.9</td>\n",
       "      <td>226.29</td>\n",
       "      <td>...</td>\n",
       "      <td>0</td>\n",
       "      <td>63750.0</td>\n",
       "      <td>587</td>\n",
       "      <td>81.8</td>\n",
       "      <td>10.5</td>\n",
       "      <td>KY</td>\n",
       "      <td>97.99</td>\n",
       "      <td>0</td>\n",
       "      <td>0</td>\n",
       "      <td>0</td>\n",
       "    </tr>\n",
       "    <tr>\n",
       "      <th>1</th>\n",
       "      <td>4</td>\n",
       "      <td>26</td>\n",
       "      <td>-2</td>\n",
       "      <td>25</td>\n",
       "      <td>119</td>\n",
       "      <td>60882.42</td>\n",
       "      <td>34.007232</td>\n",
       "      <td>10.500</td>\n",
       "      <td>5.9</td>\n",
       "      <td>225.10</td>\n",
       "      <td>...</td>\n",
       "      <td>0</td>\n",
       "      <td>63750.0</td>\n",
       "      <td>587</td>\n",
       "      <td>81.8</td>\n",
       "      <td>10.5</td>\n",
       "      <td>KY</td>\n",
       "      <td>97.99</td>\n",
       "      <td>0</td>\n",
       "      <td>0</td>\n",
       "      <td>0</td>\n",
       "    </tr>\n",
       "    <tr>\n",
       "      <th>2</th>\n",
       "      <td>4</td>\n",
       "      <td>27</td>\n",
       "      <td>-2</td>\n",
       "      <td>25</td>\n",
       "      <td>119</td>\n",
       "      <td>60729.80</td>\n",
       "      <td>34.335349</td>\n",
       "      <td>10.500</td>\n",
       "      <td>5.9</td>\n",
       "      <td>222.39</td>\n",
       "      <td>...</td>\n",
       "      <td>0</td>\n",
       "      <td>63750.0</td>\n",
       "      <td>587</td>\n",
       "      <td>81.8</td>\n",
       "      <td>10.5</td>\n",
       "      <td>KY</td>\n",
       "      <td>97.99</td>\n",
       "      <td>0</td>\n",
       "      <td>0</td>\n",
       "      <td>0</td>\n",
       "    </tr>\n",
       "    <tr>\n",
       "      <th>3</th>\n",
       "      <td>4</td>\n",
       "      <td>28</td>\n",
       "      <td>-2</td>\n",
       "      <td>25</td>\n",
       "      <td>119</td>\n",
       "      <td>60576.14</td>\n",
       "      <td>34.672545</td>\n",
       "      <td>10.875</td>\n",
       "      <td>5.9</td>\n",
       "      <td>219.67</td>\n",
       "      <td>...</td>\n",
       "      <td>0</td>\n",
       "      <td>63750.0</td>\n",
       "      <td>587</td>\n",
       "      <td>81.8</td>\n",
       "      <td>10.5</td>\n",
       "      <td>KY</td>\n",
       "      <td>97.99</td>\n",
       "      <td>0</td>\n",
       "      <td>0</td>\n",
       "      <td>0</td>\n",
       "    </tr>\n",
       "    <tr>\n",
       "      <th>4</th>\n",
       "      <td>4</td>\n",
       "      <td>29</td>\n",
       "      <td>-2</td>\n",
       "      <td>25</td>\n",
       "      <td>119</td>\n",
       "      <td>60424.39</td>\n",
       "      <td>34.951639</td>\n",
       "      <td>10.875</td>\n",
       "      <td>5.9</td>\n",
       "      <td>217.37</td>\n",
       "      <td>...</td>\n",
       "      <td>0</td>\n",
       "      <td>63750.0</td>\n",
       "      <td>587</td>\n",
       "      <td>81.8</td>\n",
       "      <td>10.5</td>\n",
       "      <td>KY</td>\n",
       "      <td>97.99</td>\n",
       "      <td>0</td>\n",
       "      <td>0</td>\n",
       "      <td>0</td>\n",
       "    </tr>\n",
       "  </tbody>\n",
       "</table>\n",
       "<p>5 rows × 25 columns</p>\n",
       "</div>"
      ],
      "text/plain": [
       "   id  time  orig_time  first_time  mat_time  balance_time   LTV_time  \\\n",
       "0   4    25         -2          25       119      61031.10  33.911009   \n",
       "1   4    26         -2          25       119      60882.42  34.007232   \n",
       "2   4    27         -2          25       119      60729.80  34.335349   \n",
       "3   4    28         -2          25       119      60576.14  34.672545   \n",
       "4   4    29         -2          25       119      60424.39  34.951639   \n",
       "\n",
       "   interest_rate_time  rate_time  hpi_time  ...  investor_orig_time  \\\n",
       "0              10.500        5.9    226.29  ...                   0   \n",
       "1              10.500        5.9    225.10  ...                   0   \n",
       "2              10.500        5.9    222.39  ...                   0   \n",
       "3              10.875        5.9    219.67  ...                   0   \n",
       "4              10.875        5.9    217.37  ...                   0   \n",
       "\n",
       "   balance_orig_time  FICO_orig_time  LTV_orig_time  Interest_Rate_orig_time  \\\n",
       "0            63750.0             587           81.8                     10.5   \n",
       "1            63750.0             587           81.8                     10.5   \n",
       "2            63750.0             587           81.8                     10.5   \n",
       "3            63750.0             587           81.8                     10.5   \n",
       "4            63750.0             587           81.8                     10.5   \n",
       "\n",
       "   state_orig_time  hpi_orig_time  default_time  payoff_time  status_time  \n",
       "0               KY          97.99             0            0            0  \n",
       "1               KY          97.99             0            0            0  \n",
       "2               KY          97.99             0            0            0  \n",
       "3               KY          97.99             0            0            0  \n",
       "4               KY          97.99             0            0            0  \n",
       "\n",
       "[5 rows x 25 columns]"
      ]
     },
     "execution_count": 11,
     "metadata": {},
     "output_type": "execute_result"
    }
   ],
   "source": [
    "selected_data.head(5)"
   ]
  },
  {
   "cell_type": "markdown",
   "metadata": {},
   "source": [
    "Cabe recordar al lector, que cada observación (renglón) del `dataset` representa préstamos realizados a una determinada fecha, la cual indica el número de trimestre, iniciando desde el primer semestre del año $2000$ y finalizando en el último trimestre del año $2015$."
   ]
  },
  {
   "cell_type": "code",
   "execution_count": 12,
   "metadata": {},
   "outputs": [
    {
     "name": "stdout",
     "output_type": "stream",
     "text": [
      "Cantidad de acreditados únicos:  4979\n",
      "Cantidad de trimestres:  60\n"
     ]
    }
   ],
   "source": [
    "print('Cantidad de acreditados únicos: ', len(selected_data.id.unique()))\n",
    "print('Cantidad de trimestres: ', len(selected_data.time.unique()))"
   ]
  },
  {
   "cell_type": "markdown",
   "metadata": {},
   "source": [
    "Se le realizaron préstamos a $4,979$ personas distintas a lo largo de $60$ trimestres que corresponden a los $15$ años del periodo de estudio."
   ]
  },
  {
   "cell_type": "code",
   "execution_count": 13,
   "metadata": {},
   "outputs": [
    {
     "name": "stdout",
     "output_type": "stream",
     "text": [
      "Cantidad de Estados:  52\n"
     ]
    }
   ],
   "source": [
    "print('Cantidad de Estados: ', len(selected_data.state_orig_time.unique()))"
   ]
  },
  {
   "cell_type": "markdown",
   "metadata": {},
   "source": [
    "Se tiene información de los 52 estados que componene a Estados Unidos de América. La cantidad de observaciones por estado es la siguiente:"
   ]
  },
  {
   "cell_type": "code",
   "execution_count": 14,
   "metadata": {},
   "outputs": [
    {
     "data": {
      "text/html": [
       "<div>\n",
       "<style scoped>\n",
       "    .dataframe tbody tr th:only-of-type {\n",
       "        vertical-align: middle;\n",
       "    }\n",
       "\n",
       "    .dataframe tbody tr th {\n",
       "        vertical-align: top;\n",
       "    }\n",
       "\n",
       "    .dataframe thead th {\n",
       "        text-align: right;\n",
       "    }\n",
       "</style>\n",
       "<table border=\"1\" class=\"dataframe\">\n",
       "  <thead>\n",
       "    <tr style=\"text-align: right;\">\n",
       "      <th>col_0</th>\n",
       "      <th>count</th>\n",
       "    </tr>\n",
       "    <tr>\n",
       "      <th>state_orig_time</th>\n",
       "      <th></th>\n",
       "    </tr>\n",
       "  </thead>\n",
       "  <tbody>\n",
       "    <tr>\n",
       "      <th>CA</th>\n",
       "      <td>12582</td>\n",
       "    </tr>\n",
       "    <tr>\n",
       "      <th>FL</th>\n",
       "      <td>6175</td>\n",
       "    </tr>\n",
       "    <tr>\n",
       "      <th>TX</th>\n",
       "      <td>3893</td>\n",
       "    </tr>\n",
       "    <tr>\n",
       "      <th>NY</th>\n",
       "      <td>2947</td>\n",
       "    </tr>\n",
       "    <tr>\n",
       "      <th>GA</th>\n",
       "      <td>2649</td>\n",
       "    </tr>\n",
       "    <tr>\n",
       "      <th>IL</th>\n",
       "      <td>2350</td>\n",
       "    </tr>\n",
       "    <tr>\n",
       "      <th>AZ</th>\n",
       "      <td>2171</td>\n",
       "    </tr>\n",
       "    <tr>\n",
       "      <th>VA</th>\n",
       "      <td>2070</td>\n",
       "    </tr>\n",
       "    <tr>\n",
       "      <th>OH</th>\n",
       "      <td>1726</td>\n",
       "    </tr>\n",
       "    <tr>\n",
       "      <th>PA</th>\n",
       "      <td>1714</td>\n",
       "    </tr>\n",
       "    <tr>\n",
       "      <th>MI</th>\n",
       "      <td>1615</td>\n",
       "    </tr>\n",
       "    <tr>\n",
       "      <th>MD</th>\n",
       "      <td>1591</td>\n",
       "    </tr>\n",
       "    <tr>\n",
       "      <th>NV</th>\n",
       "      <td>1572</td>\n",
       "    </tr>\n",
       "    <tr>\n",
       "      <th>WA</th>\n",
       "      <td>1562</td>\n",
       "    </tr>\n",
       "    <tr>\n",
       "      <th>NJ</th>\n",
       "      <td>1510</td>\n",
       "    </tr>\n",
       "    <tr>\n",
       "      <th>CO</th>\n",
       "      <td>1499</td>\n",
       "    </tr>\n",
       "    <tr>\n",
       "      <th>NC</th>\n",
       "      <td>1397</td>\n",
       "    </tr>\n",
       "    <tr>\n",
       "      <th>MA</th>\n",
       "      <td>1042</td>\n",
       "    </tr>\n",
       "    <tr>\n",
       "      <th>OR</th>\n",
       "      <td>963</td>\n",
       "    </tr>\n",
       "    <tr>\n",
       "      <th>IN</th>\n",
       "      <td>923</td>\n",
       "    </tr>\n",
       "    <tr>\n",
       "      <th>MO</th>\n",
       "      <td>836</td>\n",
       "    </tr>\n",
       "    <tr>\n",
       "      <th>CT</th>\n",
       "      <td>788</td>\n",
       "    </tr>\n",
       "    <tr>\n",
       "      <th>MN</th>\n",
       "      <td>781</td>\n",
       "    </tr>\n",
       "    <tr>\n",
       "      <th>LA</th>\n",
       "      <td>755</td>\n",
       "    </tr>\n",
       "    <tr>\n",
       "      <th>AL</th>\n",
       "      <td>701</td>\n",
       "    </tr>\n",
       "    <tr>\n",
       "      <th>TN</th>\n",
       "      <td>700</td>\n",
       "    </tr>\n",
       "    <tr>\n",
       "      <th>SC</th>\n",
       "      <td>638</td>\n",
       "    </tr>\n",
       "    <tr>\n",
       "      <th>PR</th>\n",
       "      <td>414</td>\n",
       "    </tr>\n",
       "    <tr>\n",
       "      <th>MS</th>\n",
       "      <td>370</td>\n",
       "    </tr>\n",
       "    <tr>\n",
       "      <th>AR</th>\n",
       "      <td>364</td>\n",
       "    </tr>\n",
       "    <tr>\n",
       "      <th>WI</th>\n",
       "      <td>342</td>\n",
       "    </tr>\n",
       "    <tr>\n",
       "      <th>UT</th>\n",
       "      <td>340</td>\n",
       "    </tr>\n",
       "    <tr>\n",
       "      <th>HI</th>\n",
       "      <td>325</td>\n",
       "    </tr>\n",
       "    <tr>\n",
       "      <th>NM</th>\n",
       "      <td>290</td>\n",
       "    </tr>\n",
       "    <tr>\n",
       "      <th>KY</th>\n",
       "      <td>286</td>\n",
       "    </tr>\n",
       "    <tr>\n",
       "      <th>NH</th>\n",
       "      <td>285</td>\n",
       "    </tr>\n",
       "    <tr>\n",
       "      <th>OK</th>\n",
       "      <td>283</td>\n",
       "    </tr>\n",
       "    <tr>\n",
       "      <th>KS</th>\n",
       "      <td>255</td>\n",
       "    </tr>\n",
       "    <tr>\n",
       "      <th>IA</th>\n",
       "      <td>157</td>\n",
       "    </tr>\n",
       "    <tr>\n",
       "      <th>ID</th>\n",
       "      <td>157</td>\n",
       "    </tr>\n",
       "    <tr>\n",
       "      <th>DC</th>\n",
       "      <td>156</td>\n",
       "    </tr>\n",
       "    <tr>\n",
       "      <th>ME</th>\n",
       "      <td>119</td>\n",
       "    </tr>\n",
       "    <tr>\n",
       "      <th>DE</th>\n",
       "      <td>110</td>\n",
       "    </tr>\n",
       "    <tr>\n",
       "      <th>RI</th>\n",
       "      <td>93</td>\n",
       "    </tr>\n",
       "    <tr>\n",
       "      <th>NE</th>\n",
       "      <td>67</td>\n",
       "    </tr>\n",
       "    <tr>\n",
       "      <th>WV</th>\n",
       "      <td>54</td>\n",
       "    </tr>\n",
       "    <tr>\n",
       "      <th>WY</th>\n",
       "      <td>51</td>\n",
       "    </tr>\n",
       "    <tr>\n",
       "      <th>VT</th>\n",
       "      <td>40</td>\n",
       "    </tr>\n",
       "    <tr>\n",
       "      <th>MT</th>\n",
       "      <td>36</td>\n",
       "    </tr>\n",
       "    <tr>\n",
       "      <th>AK</th>\n",
       "      <td>24</td>\n",
       "    </tr>\n",
       "    <tr>\n",
       "      <th>SD</th>\n",
       "      <td>20</td>\n",
       "    </tr>\n",
       "    <tr>\n",
       "      <th>ND</th>\n",
       "      <td>15</td>\n",
       "    </tr>\n",
       "  </tbody>\n",
       "</table>\n",
       "</div>"
      ],
      "text/plain": [
       "col_0            count\n",
       "state_orig_time       \n",
       "CA               12582\n",
       "FL                6175\n",
       "TX                3893\n",
       "NY                2947\n",
       "GA                2649\n",
       "IL                2350\n",
       "AZ                2171\n",
       "VA                2070\n",
       "OH                1726\n",
       "PA                1714\n",
       "MI                1615\n",
       "MD                1591\n",
       "NV                1572\n",
       "WA                1562\n",
       "NJ                1510\n",
       "CO                1499\n",
       "NC                1397\n",
       "MA                1042\n",
       "OR                 963\n",
       "IN                 923\n",
       "MO                 836\n",
       "CT                 788\n",
       "MN                 781\n",
       "LA                 755\n",
       "AL                 701\n",
       "TN                 700\n",
       "SC                 638\n",
       "PR                 414\n",
       "MS                 370\n",
       "AR                 364\n",
       "WI                 342\n",
       "UT                 340\n",
       "HI                 325\n",
       "NM                 290\n",
       "KY                 286\n",
       "NH                 285\n",
       "OK                 283\n",
       "KS                 255\n",
       "IA                 157\n",
       "ID                 157\n",
       "DC                 156\n",
       "ME                 119\n",
       "DE                 110\n",
       "RI                  93\n",
       "NE                  67\n",
       "WV                  54\n",
       "WY                  51\n",
       "VT                  40\n",
       "MT                  36\n",
       "AK                  24\n",
       "SD                  20\n",
       "ND                  15"
      ]
     },
     "execution_count": 14,
     "metadata": {},
     "output_type": "execute_result"
    }
   ],
   "source": [
    "pd.crosstab(index=selected_data[\"state_orig_time\"], columns=\"count\").sort_values('count', ascending=False)"
   ]
  },
  {
   "cell_type": "markdown",
   "metadata": {},
   "source": [
    "Nótese que los estados con mayor cantidad de préstamos son:\n",
    "1. California (CA)\n",
    "1. Florida (FL)\n",
    "1. Texas (TX)\n",
    "\n",
    "Que corresponden a los estados con mayor población según [reportes](https://datosmacro.expansion.com/demografia/poblacion/usa-estados) al año 2019, por lo que, podría pensarse (faltaría comprobarlo) que los préstamos realizados siguen un comportamiento a distribución población, es decir, que depende de la cantidad de personas del estado la cantidad de préstamos realizados."
   ]
  },
  {
   "cell_type": "markdown",
   "metadata": {},
   "source": [
    "Al momento que se se genera un préstamo se cuenta con las siguienes variables:\n",
    "* `REtype_CO_orig_time`\n",
    "* `REtype_PU_orig_time`\n",
    "* `REtype_SF_orig_time`\n",
    "* `investor_orig_time`\n",
    "* `balance_orig_time`\n",
    "* `FICO_orig_time`\n",
    "* `LTV_orig_time`\n",
    "* `Interest_Rate_orig_time`\n",
    "* `state_orig_time`\n",
    "* `hpi_orig_time`\n",
    "\n",
    "Por lo que se enfocarán los esfuerzos, en primer lugar, a analizar dichas variables y en la variable `default_time`, ya que es la variable que nos indica si un préstamo fue catalogado como default (no cumplimiento con las obligaciones de pago), en el trimestre correspondiente o no."
   ]
  },
  {
   "cell_type": "code",
   "execution_count": 15,
   "metadata": {},
   "outputs": [
    {
     "data": {
      "text/html": [
       "<div>\n",
       "<style scoped>\n",
       "    .dataframe tbody tr th:only-of-type {\n",
       "        vertical-align: middle;\n",
       "    }\n",
       "\n",
       "    .dataframe tbody tr th {\n",
       "        vertical-align: top;\n",
       "    }\n",
       "\n",
       "    .dataframe thead th {\n",
       "        text-align: right;\n",
       "    }\n",
       "</style>\n",
       "<table border=\"1\" class=\"dataframe\">\n",
       "  <thead>\n",
       "    <tr style=\"text-align: right;\">\n",
       "      <th></th>\n",
       "      <th>REtype_CO_orig_time</th>\n",
       "      <th>REtype_PU_orig_time</th>\n",
       "      <th>REtype_SF_orig_time</th>\n",
       "      <th>investor_orig_time</th>\n",
       "      <th>balance_orig_time</th>\n",
       "      <th>FICO_orig_time</th>\n",
       "      <th>LTV_orig_time</th>\n",
       "      <th>Interest_Rate_orig_time</th>\n",
       "      <th>hpi_orig_time</th>\n",
       "      <th>default_time</th>\n",
       "    </tr>\n",
       "  </thead>\n",
       "  <tbody>\n",
       "    <tr>\n",
       "      <th>count</th>\n",
       "      <td>61803.000000</td>\n",
       "      <td>61803.000000</td>\n",
       "      <td>61803.000000</td>\n",
       "      <td>61803.000000</td>\n",
       "      <td>6.180300e+04</td>\n",
       "      <td>61803.000000</td>\n",
       "      <td>61803.000000</td>\n",
       "      <td>61803.000000</td>\n",
       "      <td>61803.000000</td>\n",
       "      <td>61803.000000</td>\n",
       "    </tr>\n",
       "    <tr>\n",
       "      <th>mean</th>\n",
       "      <td>0.061033</td>\n",
       "      <td>0.128198</td>\n",
       "      <td>0.607818</td>\n",
       "      <td>0.146271</td>\n",
       "      <td>2.551075e+05</td>\n",
       "      <td>673.489879</td>\n",
       "      <td>78.692758</td>\n",
       "      <td>5.595503</td>\n",
       "      <td>198.760887</td>\n",
       "      <td>0.024578</td>\n",
       "    </tr>\n",
       "    <tr>\n",
       "      <th>std</th>\n",
       "      <td>0.239392</td>\n",
       "      <td>0.334312</td>\n",
       "      <td>0.488241</td>\n",
       "      <td>0.353381</td>\n",
       "      <td>2.118775e+05</td>\n",
       "      <td>71.904099</td>\n",
       "      <td>10.226046</td>\n",
       "      <td>2.971053</td>\n",
       "      <td>33.428980</td>\n",
       "      <td>0.154837</td>\n",
       "    </tr>\n",
       "    <tr>\n",
       "      <th>min</th>\n",
       "      <td>0.000000</td>\n",
       "      <td>0.000000</td>\n",
       "      <td>0.000000</td>\n",
       "      <td>0.000000</td>\n",
       "      <td>6.246000e+03</td>\n",
       "      <td>429.000000</td>\n",
       "      <td>50.100000</td>\n",
       "      <td>0.000000</td>\n",
       "      <td>75.730000</td>\n",
       "      <td>0.000000</td>\n",
       "    </tr>\n",
       "    <tr>\n",
       "      <th>25%</th>\n",
       "      <td>0.000000</td>\n",
       "      <td>0.000000</td>\n",
       "      <td>0.000000</td>\n",
       "      <td>0.000000</td>\n",
       "      <td>1.076230e+05</td>\n",
       "      <td>628.000000</td>\n",
       "      <td>75.000000</td>\n",
       "      <td>4.875000</td>\n",
       "      <td>186.910000</td>\n",
       "      <td>0.000000</td>\n",
       "    </tr>\n",
       "    <tr>\n",
       "      <th>50%</th>\n",
       "      <td>0.000000</td>\n",
       "      <td>0.000000</td>\n",
       "      <td>1.000000</td>\n",
       "      <td>0.000000</td>\n",
       "      <td>1.880000e+05</td>\n",
       "      <td>675.000000</td>\n",
       "      <td>80.000000</td>\n",
       "      <td>6.250000</td>\n",
       "      <td>216.770000</td>\n",
       "      <td>0.000000</td>\n",
       "    </tr>\n",
       "    <tr>\n",
       "      <th>75%</th>\n",
       "      <td>0.000000</td>\n",
       "      <td>0.000000</td>\n",
       "      <td>1.000000</td>\n",
       "      <td>0.000000</td>\n",
       "      <td>3.500000e+05</td>\n",
       "      <td>730.000000</td>\n",
       "      <td>80.000000</td>\n",
       "      <td>7.375000</td>\n",
       "      <td>223.750000</td>\n",
       "      <td>0.000000</td>\n",
       "    </tr>\n",
       "    <tr>\n",
       "      <th>max</th>\n",
       "      <td>1.000000</td>\n",
       "      <td>1.000000</td>\n",
       "      <td>1.000000</td>\n",
       "      <td>1.000000</td>\n",
       "      <td>3.107000e+06</td>\n",
       "      <td>819.000000</td>\n",
       "      <td>119.800000</td>\n",
       "      <td>15.000000</td>\n",
       "      <td>226.290000</td>\n",
       "      <td>1.000000</td>\n",
       "    </tr>\n",
       "  </tbody>\n",
       "</table>\n",
       "</div>"
      ],
      "text/plain": [
       "       REtype_CO_orig_time  REtype_PU_orig_time  REtype_SF_orig_time  \\\n",
       "count         61803.000000         61803.000000         61803.000000   \n",
       "mean              0.061033             0.128198             0.607818   \n",
       "std               0.239392             0.334312             0.488241   \n",
       "min               0.000000             0.000000             0.000000   \n",
       "25%               0.000000             0.000000             0.000000   \n",
       "50%               0.000000             0.000000             1.000000   \n",
       "75%               0.000000             0.000000             1.000000   \n",
       "max               1.000000             1.000000             1.000000   \n",
       "\n",
       "       investor_orig_time  balance_orig_time  FICO_orig_time  LTV_orig_time  \\\n",
       "count        61803.000000       6.180300e+04    61803.000000   61803.000000   \n",
       "mean             0.146271       2.551075e+05      673.489879      78.692758   \n",
       "std              0.353381       2.118775e+05       71.904099      10.226046   \n",
       "min              0.000000       6.246000e+03      429.000000      50.100000   \n",
       "25%              0.000000       1.076230e+05      628.000000      75.000000   \n",
       "50%              0.000000       1.880000e+05      675.000000      80.000000   \n",
       "75%              0.000000       3.500000e+05      730.000000      80.000000   \n",
       "max              1.000000       3.107000e+06      819.000000     119.800000   \n",
       "\n",
       "       Interest_Rate_orig_time  hpi_orig_time  default_time  \n",
       "count             61803.000000   61803.000000  61803.000000  \n",
       "mean                  5.595503     198.760887      0.024578  \n",
       "std                   2.971053      33.428980      0.154837  \n",
       "min                   0.000000      75.730000      0.000000  \n",
       "25%                   4.875000     186.910000      0.000000  \n",
       "50%                   6.250000     216.770000      0.000000  \n",
       "75%                   7.375000     223.750000      0.000000  \n",
       "max                  15.000000     226.290000      1.000000  "
      ]
     },
     "execution_count": 15,
     "metadata": {},
     "output_type": "execute_result"
    }
   ],
   "source": [
    "selected_data[['REtype_CO_orig_time', 'REtype_PU_orig_time', 'REtype_SF_orig_time', 'investor_orig_time',\n",
    "             'balance_orig_time', 'FICO_orig_time', 'LTV_orig_time', 'Interest_Rate_orig_time', 'state_orig_time',\n",
    "             'hpi_orig_time','default_time']].describe()"
   ]
  },
  {
   "cell_type": "markdown",
   "metadata": {},
   "source": [
    "Como ya se había mencionado previamente las variables `REtype_CO_orig_time`, `REtype_PU_orig_time`, `REtype_SF_orig_time`, `investor_orig_time` y `default_time` son binarias (sólo toman $2$) tal y como se había mencioando previamente. Además la proporción de $1$ en la variable de `default_time` es la menor. Que es un suceso esperado, esto quiere decir, que no todos los préstamos caen en default, es decir, no cumplen con sus obligaciones de pago. La variable `REtype_CO_orig_time` nos indica que la mayoría de los préstamos realizados corresponden a viviendas que **no** son condominios.\n",
    "\n",
    "Un hecho interesante, es que la mayoría de los préstamos, son dados a viviendas que no tienen desarrollo urbano. Esto nos lo indica la media de `REtype_PU_orig_time`.\n",
    "\n",
    "Para las variables numéricas se realizan los siguientes comentarios:\n",
    "* `balance_orig_time`.- el monto del crédito mínimo fue aproximadamente de $\\$255,107.5$ dólares, mientras que el más alto de casi $\\$3,000,000$ dólares, lo cual nos indica que es una variable con alta dispersión.\n",
    "* `FICO_orig_time`.- la desviación estándar es aproximadamente de $\\$71$ dólares, dada la escala (mínimo y máximo), deducimos que no presenta una alta dispersión.\n",
    "* `LTV_orig_time`.- análogo a la variable anterior.\n",
    "* `Interest_Rate_orig_time`.- es interesante que la tasa de interés mínima fue de $0\\%$, lo cual, indica que para dicho préstamo, no se generaron intereses. Sin embargo, la tasa máxima de interés fue de $15\\%$.\n",
    "* `hpi_orig_time`.- dada la escala de las variables y la desviación estándar, concluímos que no posee una alta dispersión."
   ]
  },
  {
   "cell_type": "markdown",
   "metadata": {},
   "source": [
    "El siguiente paso del análisis exploratorio es observar la dispersión de los datos para ello utilizaremos diagramas de cajas y brazos únicamente de las variables siguientes:\n",
    "\n",
    "* `balance_orig_time`\n",
    "* `FICO_orig_time`\n",
    "* `LTV_orig_time`\n",
    "* `Interest_Rate_orig_time`\n",
    "* `hpi_orig_time`\n",
    "\n",
    "Debido a que son las variables que se obtienen al momento de generar el préstamo, a continuación se analizarán los diagramas de caja para dichas variables en escala logarítmica, ya que hemos analizado que presentan una alta dispersión."
   ]
  },
  {
   "cell_type": "code",
   "execution_count": 16,
   "metadata": {},
   "outputs": [],
   "source": [
    "variables = ['balance_orig_time', 'FICO_orig_time', 'LTV_orig_time', 'Interest_Rate_orig_time', 'hpi_orig_time']"
   ]
  },
  {
   "cell_type": "code",
   "execution_count": 17,
   "metadata": {
    "scrolled": true
   },
   "outputs": [
    {
     "data": {
      "image/png": "[encoded data removed]",
      "text/plain": [
       "<Figure size 756x612 with 6 Axes>"
      ]
     },
     "metadata": {
      "needs_background": "light"
     },
     "output_type": "display_data"
    }
   ],
   "source": [
    "n = len(variables)\n",
    "fig, ax = plt.subplots(3,2, figsize=(10.5,8.5))\n",
    "#fig.set_size_inches(5.5, 20.5)\n",
    "loc_i = [0,0,1,1,2]\n",
    "loc_j = [0,1,0,1,0]\n",
    "fig.tight_layout(pad=2)\n",
    "\n",
    "for i in range(n):\n",
    "    g = sns.boxplot(x='default_time', y = variables[i], data = selected_data, ax = ax[loc_i[i]][loc_j[i]])\n",
    "    g.set(yscale = 'log')"
   ]
  },
  {
   "cell_type": "markdown",
   "metadata": {},
   "source": [
    "La variable `balance_orig_time`, presenta una estructura muy similar para ambas categorías de la varaible `default_time`, sin embargo, la cantidad de valores atípicos para la clase $0$ son mayores.\n",
    "\n",
    "Notemos que para las variables `Interest_Rate_orig_time` y `LTV_orig_time` la media es superior para el grupo identificado como *default* (o clase $1$) que para el *no default*. Mientras que para la variable `FICO_orig_time` ocurre lo contrario. Además, la dispersión para el grupo *default* de la variable `Interest_Rate_orig_time` es mayor y para la variable `hpi_orig_time` es mayor para el grupo *no default*."
   ]
  },
  {
   "cell_type": "markdown",
   "metadata": {},
   "source": [
    "Para las variables dicotómicas a continuación se calculará la desviación estándar y la media, dichas variables son las siguientes:\n",
    "* `REtype_CO_orig_time`\n",
    "* `REtype_PU_orig_time`\n",
    "* `REtype_SF_orig_time`\n",
    "* `investor_orig_time`"
   ]
  },
  {
   "cell_type": "code",
   "execution_count": 18,
   "metadata": {},
   "outputs": [],
   "source": [
    "var_dic = ['REtype_CO_orig_time', 'REtype_PU_orig_time', 'REtype_SF_orig_time', 'investor_orig_time', \n",
    "           'default_time']"
   ]
  },
  {
   "cell_type": "code",
   "execution_count": 19,
   "metadata": {},
   "outputs": [
    {
     "data": {
      "text/html": [
       "<div>\n",
       "<style scoped>\n",
       "    .dataframe tbody tr th:only-of-type {\n",
       "        vertical-align: middle;\n",
       "    }\n",
       "\n",
       "    .dataframe tbody tr th {\n",
       "        vertical-align: top;\n",
       "    }\n",
       "\n",
       "    .dataframe thead th {\n",
       "        text-align: right;\n",
       "    }\n",
       "</style>\n",
       "<table border=\"1\" class=\"dataframe\">\n",
       "  <thead>\n",
       "    <tr style=\"text-align: right;\">\n",
       "      <th></th>\n",
       "      <th>REtype_CO_orig_time</th>\n",
       "      <th>REtype_PU_orig_time</th>\n",
       "      <th>REtype_SF_orig_time</th>\n",
       "      <th>investor_orig_time</th>\n",
       "    </tr>\n",
       "    <tr>\n",
       "      <th>default_time</th>\n",
       "      <th></th>\n",
       "      <th></th>\n",
       "      <th></th>\n",
       "      <th></th>\n",
       "    </tr>\n",
       "  </thead>\n",
       "  <tbody>\n",
       "    <tr>\n",
       "      <th>0</th>\n",
       "      <td>0.061277</td>\n",
       "      <td>0.128094</td>\n",
       "      <td>0.607176</td>\n",
       "      <td>0.14639</td>\n",
       "    </tr>\n",
       "    <tr>\n",
       "      <th>1</th>\n",
       "      <td>0.051350</td>\n",
       "      <td>0.132324</td>\n",
       "      <td>0.633311</td>\n",
       "      <td>0.14154</td>\n",
       "    </tr>\n",
       "  </tbody>\n",
       "</table>\n",
       "</div>"
      ],
      "text/plain": [
       "              REtype_CO_orig_time  REtype_PU_orig_time  REtype_SF_orig_time  \\\n",
       "default_time                                                                  \n",
       "0                        0.061277             0.128094             0.607176   \n",
       "1                        0.051350             0.132324             0.633311   \n",
       "\n",
       "              investor_orig_time  \n",
       "default_time                      \n",
       "0                        0.14639  \n",
       "1                        0.14154  "
      ]
     },
     "execution_count": 19,
     "metadata": {},
     "output_type": "execute_result"
    }
   ],
   "source": [
    "selected_data[var_dic].groupby(['default_time']).mean()"
   ]
  },
  {
   "cell_type": "markdown",
   "metadata": {},
   "source": [
    "Notemos que la proporción para las variables dicotómias es muy parecida a excepción de la variable `REtype_SF_orig_time`, que indica la proporción de préstamos realizados a individuos con vivienda unitaria. Nótese que esta proporción es mayor para la categoría *default* (aquellos préstamos que no cumplieron con sus obligaciones de pago). Ante este fenónemo tenemos la siguiente hipótesis:\n",
    "* Dado que es una vivienda unitaria, el ingreso se limita a lo recibido por una persona que en el caso donde no es unitaria y existen más aportadores de ingresos a la economía del hogar, por lo que, para el primer caso cumplir con las obligaciones de pago puede llegar a ser más difícil que para el segundo."
   ]
  },
  {
   "cell_type": "code",
   "execution_count": 20,
   "metadata": {},
   "outputs": [
    {
     "data": {
      "text/html": [
       "<div>\n",
       "<style scoped>\n",
       "    .dataframe tbody tr th:only-of-type {\n",
       "        vertical-align: middle;\n",
       "    }\n",
       "\n",
       "    .dataframe tbody tr th {\n",
       "        vertical-align: top;\n",
       "    }\n",
       "\n",
       "    .dataframe thead th {\n",
       "        text-align: right;\n",
       "    }\n",
       "</style>\n",
       "<table border=\"1\" class=\"dataframe\">\n",
       "  <thead>\n",
       "    <tr style=\"text-align: right;\">\n",
       "      <th></th>\n",
       "      <th>REtype_CO_orig_time</th>\n",
       "      <th>REtype_PU_orig_time</th>\n",
       "      <th>REtype_SF_orig_time</th>\n",
       "      <th>investor_orig_time</th>\n",
       "    </tr>\n",
       "    <tr>\n",
       "      <th>default_time</th>\n",
       "      <th></th>\n",
       "      <th></th>\n",
       "      <th></th>\n",
       "      <th></th>\n",
       "    </tr>\n",
       "  </thead>\n",
       "  <tbody>\n",
       "    <tr>\n",
       "      <th>0</th>\n",
       "      <td>0.239839</td>\n",
       "      <td>0.334197</td>\n",
       "      <td>0.488382</td>\n",
       "      <td>0.353500</td>\n",
       "    </tr>\n",
       "    <tr>\n",
       "      <th>1</th>\n",
       "      <td>0.220782</td>\n",
       "      <td>0.338954</td>\n",
       "      <td>0.482059</td>\n",
       "      <td>0.348693</td>\n",
       "    </tr>\n",
       "  </tbody>\n",
       "</table>\n",
       "</div>"
      ],
      "text/plain": [
       "              REtype_CO_orig_time  REtype_PU_orig_time  REtype_SF_orig_time  \\\n",
       "default_time                                                                  \n",
       "0                        0.239839             0.334197             0.488382   \n",
       "1                        0.220782             0.338954             0.482059   \n",
       "\n",
       "              investor_orig_time  \n",
       "default_time                      \n",
       "0                       0.353500  \n",
       "1                       0.348693  "
      ]
     },
     "execution_count": 20,
     "metadata": {},
     "output_type": "execute_result"
    }
   ],
   "source": [
    "selected_data[var_dic].groupby(['default_time']).std()"
   ]
  },
  {
   "cell_type": "markdown",
   "metadata": {},
   "source": [
    "La desviación estándar es muy similar para todas las variables dicotómicas."
   ]
  },
  {
   "cell_type": "markdown",
   "metadata": {},
   "source": [
    "Por último, se analizará la estructura de correlación entre las variables numéricas generadas al momento de realizar un préstamo. **¿Por qué se analiza la correlación?** Debido a que se utilizará un modelo lineal, el cual presenta problemas de inestibilidad numérica cuando se tienen variables con correlación lineal alta. "
   ]
  },
  {
   "cell_type": "code",
   "execution_count": 21,
   "metadata": {},
   "outputs": [
    {
     "data": {
      "image/png": "[encoded data removed]",
      "text/plain": [
       "<Figure size 432x360 with 2 Axes>"
      ]
     },
     "metadata": {
      "needs_background": "light"
     },
     "output_type": "display_data"
    }
   ],
   "source": [
    "corr_plot(selected_data, variables)"
   ]
  },
  {
   "cell_type": "markdown",
   "metadata": {},
   "source": [
    "El previo gráfico muestra las correlaciones lineales por variables, del cual se deduce que para las variables numéricas esta correlación es baja, por lo que el uso del modelo de regresión logística no debería presentar problemas de inestabilidad numérica para dichas variables."
   ]
  },
  {
   "cell_type": "markdown",
   "metadata": {},
   "source": [
    "### EDA - Hallazgos importantes \n",
    "* Las variables que se obtienen la momento de generar un préstamo no presentan una estructura alta de correlación, lo cual ayuda al modelo de regresión logística en el problema de multicolinealidad.\n",
    "* Dichas variables por sí solas, no ayudan a distinguir los préstamos que caerán en default o no, por lo que será necesario de técnicas más robustas para tratar dichas variables (transformaciones **no lineales**).\n",
    "* La distribución de préstamos realizados en Estados Unidos de América pareciése que sigue un comportamiento poblacional.\n",
    "* La proporción de viviendas unitarias presentan una mayor tasa de *default* (no cumplir con obligación de pago) que las viviendas no unitarias."
   ]
  },
  {
   "cell_type": "markdown",
   "metadata": {},
   "source": [
    "# b. Modelo de Regresión Logística para obtención de Probabilidades de incumplimiento en el tiempo\n",
    "# Modelling 1"
   ]
  },
  {
   "cell_type": "markdown",
   "metadata": {},
   "source": [
    "El *dataset* utilizado para la modelación recibió el tratamiento de eliminar NA's."
   ]
  },
  {
   "cell_type": "markdown",
   "metadata": {},
   "source": [
    "El objetivo de la estimación es predecir si un préstamo es catalogado como *default* (el responsable de realizar el pago no cumple con las obligaciones de saldar la deuda adquiridas al obtener el préstamo) mediante la estimación de probabilidades de incumplimiento que se obtienen mediante la optimización del problema convexo previamente mencionado. La variable independiente es `default_time`."
   ]
  },
  {
   "cell_type": "markdown",
   "metadata": {},
   "source": [
    "### Obtención del modelo"
   ]
  },
  {
   "cell_type": "code",
   "execution_count": 22,
   "metadata": {},
   "outputs": [],
   "source": [
    "modeling1 = data.dropna(subset=['time', 'default_time','LTV_time', 'FICO_orig_time']).copy()"
   ]
  },
  {
   "cell_type": "markdown",
   "metadata": {},
   "source": [
    "Uso de la función `estim_prob` que resuelve el problema de optimización."
   ]
  },
  {
   "cell_type": "code",
   "execution_count": 23,
   "metadata": {},
   "outputs": [
    {
     "name": "stdout",
     "output_type": "stream",
     "text": [
      "62153\n",
      "Evaluación de valor óptimo al resolver problema de optimización 13296.454946928172\n"
     ]
    }
   ],
   "source": [
    "fitted_values , model = estim_prob(modeling1,['default_time', 'balance_time','interest_rate_time',\n",
    "                                               'rate_time','hpi_time',\n",
    "                                               'gdp_time','uer_time','REtype_CO_orig_time','REtype_SF_orig_time',\n",
    "                                               'investor_orig_time','balance_orig_time','FICO_orig_time','LTV_orig_time',\n",
    "                                               'Interest_Rate_orig_time','hpi_orig_time','LTV_time'])"
   ]
  },
  {
   "cell_type": "markdown",
   "metadata": {},
   "source": [
    "Los coeficientes de la regresión logística son los siguientes:"
   ]
  },
  {
   "cell_type": "code",
   "execution_count": 24,
   "metadata": {},
   "outputs": [
    {
     "data": {
      "text/plain": [
       "array([-4.794,  0.   ,  0.186,  0.118, -0.013, -0.093, -0.041, -0.045,\n",
       "       -0.008,  0.19 , -0.   , -0.004,  0.022, -0.022,  0.015, -0.003])"
      ]
     },
     "execution_count": 24,
     "metadata": {},
     "output_type": "execute_result"
    }
   ],
   "source": [
    "model"
   ]
  },
  {
   "cell_type": "markdown",
   "metadata": {},
   "source": [
    "Como comparación al modelo obtenido se utilizará el modelo modelo utilizando la librería [smf](https://www.statsmodels.org/stable/generated/statsmodels.formula.api.ols.html)."
   ]
  },
  {
   "cell_type": "code",
   "execution_count": 25,
   "metadata": {},
   "outputs": [],
   "source": [
    "model_lr = smf.glm('default_time ~   balance_time + interest_rate_time + rate_time + hpi_time + uer_time + REtype_CO_orig_time + gdp_time + REtype_SF_orig_time + investor_orig_time + balance_orig_time + FICO_orig_time + LTV_orig_time + Interest_Rate_orig_time + hpi_orig_time + LTV_time ', family = sm.families.Binomial(), data = modeling1).fit()"
   ]
  },
  {
   "cell_type": "code",
   "execution_count": 26,
   "metadata": {},
   "outputs": [
    {
     "name": "stdout",
     "output_type": "stream",
     "text": [
      "                 Generalized Linear Model Regression Results                  \n",
      "==============================================================================\n",
      "Dep. Variable:           default_time   No. Observations:                62153\n",
      "Model:                            GLM   Df Residuals:                    62137\n",
      "Model Family:                Binomial   Df Model:                           15\n",
      "Link Function:                  logit   Scale:                          1.0000\n",
      "Method:                          IRLS   Log-Likelihood:                -6648.2\n",
      "Date:                Tue, 08 Dec 2020   Deviance:                       13296.\n",
      "Time:                        23:14:41   Pearson chi2:                 5.76e+04\n",
      "No. Iterations:                     8                                         \n",
      "Covariance Type:            nonrobust                                         \n",
      "===========================================================================================\n",
      "                              coef    std err          z      P>|z|      [0.025      0.975]\n",
      "-------------------------------------------------------------------------------------------\n",
      "Intercept                  -4.7944      0.685     -7.000      0.000      -6.137      -3.452\n",
      "balance_time             9.187e-06   1.58e-06      5.813      0.000    6.09e-06    1.23e-05\n",
      "interest_rate_time          0.1860      0.016     11.757      0.000       0.155       0.217\n",
      "rate_time                   0.1179      0.068      1.725      0.085      -0.016       0.252\n",
      "hpi_time                   -0.0134      0.002     -7.016      0.000      -0.017      -0.010\n",
      "uer_time                   -0.0409      0.022     -1.822      0.068      -0.085       0.003\n",
      "REtype_CO_orig_time        -0.0445      0.125     -0.356      0.722      -0.289       0.200\n",
      "gdp_time                   -0.0935      0.013     -7.066      0.000      -0.119      -0.068\n",
      "REtype_SF_orig_time        -0.0077      0.059     -0.131      0.896      -0.123       0.107\n",
      "investor_orig_time          0.1902      0.080      2.373      0.018       0.033       0.347\n",
      "balance_orig_time       -8.691e-06   1.64e-06     -5.307      0.000   -1.19e-05   -5.48e-06\n",
      "FICO_orig_time             -0.0037      0.000     -8.326      0.000      -0.005      -0.003\n",
      "LTV_orig_time               0.0222      0.003      6.956      0.000       0.016       0.029\n",
      "Interest_Rate_orig_time    -0.0215      0.008     -2.593      0.010      -0.038      -0.005\n",
      "hpi_orig_time               0.0148      0.001     11.664      0.000       0.012       0.017\n",
      "LTV_time                   -0.0031      0.002     -1.971      0.049      -0.006   -1.69e-05\n",
      "===========================================================================================\n"
     ]
    }
   ],
   "source": [
    "print(model_lr.summary())"
   ]
  },
  {
   "cell_type": "markdown",
   "metadata": {},
   "source": [
    "A continuación se muestran las principales métricas del modelo. Podemos notar que las siguientes variables no son significativas : `REtype_CO_orig_time` y `REtype_CO_orig_time`; es decir, su aportación a la varianza explicada de la variable dependiente default_time es casi nula en presencia de las demás variables del modelo."
   ]
  },
  {
   "cell_type": "markdown",
   "metadata": {},
   "source": [
    "Verificaremos que los coeficientes entre ambas estimaciones son similares, calcularemos la aproximación de ambos vectores con approx de pytest."
   ]
  },
  {
   "cell_type": "code",
   "execution_count": 27,
   "metadata": {},
   "outputs": [
    {
     "name": "stdout",
     "output_type": "stream",
     "text": [
      "True\n"
     ]
    }
   ],
   "source": [
    "print(model == approx(np.array(model_lr.params), abs=1e-1, rel=1e-1))"
   ]
  },
  {
   "cell_type": "code",
   "execution_count": 28,
   "metadata": {},
   "outputs": [],
   "source": [
    "PD_logit_model = pd.DataFrame(fitted_values, columns=['PD_logit_model'])"
   ]
  },
  {
   "cell_type": "code",
   "execution_count": 29,
   "metadata": {},
   "outputs": [],
   "source": [
    "data2 = pd.merge(modeling1[['default_time','time']],PD_logit_model, right_index=True, left_index=True)"
   ]
  },
  {
   "cell_type": "code",
   "execution_count": 30,
   "metadata": {},
   "outputs": [
    {
     "data": {
      "image/png": "[encoded data removed]",
      "text/plain": [
       "<Figure size 432x288 with 1 Axes>"
      ]
     },
     "metadata": {
      "needs_background": "light"
     },
     "output_type": "display_data"
    }
   ],
   "source": [
    "grafica_medias(data2.PD_logit_model, data2.default_time, data2.time)"
   ]
  },
  {
   "cell_type": "markdown",
   "metadata": {},
   "source": [
    "La grafica muestra un compartamiento similar del ajuste contra los valores reales.\n",
    "Podemos notar que tanto en periodos de incumplimiento bajo y alto la tendencia sigue el mismo patrón. Nótese que alrededor del periodo treinta creció debido a la crisis inmobiliaria del 2008-2009."
   ]
  },
  {
   "cell_type": "code",
   "execution_count": 31,
   "metadata": {},
   "outputs": [
    {
     "data": {
      "image/png": "[encoded data removed]",
      "text/plain": [
       "<Figure size 432x288 with 1 Axes>"
      ]
     },
     "metadata": {
      "needs_background": "light"
     },
     "output_type": "display_data"
    }
   ],
   "source": [
    "grafica_ajuste(data2.PD_logit_model, data2.default_time, data2.time)"
   ]
  },
  {
   "cell_type": "markdown",
   "metadata": {},
   "source": [
    "El ajuste de las medias reales contra las medias ajustadas no presenta desviaciones considerables, incluso para valores dispersos esta comportamiento se mantiene."
   ]
  },
  {
   "cell_type": "markdown",
   "metadata": {},
   "source": [
    "### Componentes principales"
   ]
  },
  {
   "cell_type": "markdown",
   "metadata": {},
   "source": [
    "El analisis de componentes principales se hará para ejemplificar la reducción de dimensionalidad de la variable 'estado' y poder incorporarla al modelo de predicción logístico."
   ]
  },
  {
   "cell_type": "markdown",
   "metadata": {},
   "source": [
    "Cálculo de tasas y estandarización"
   ]
  },
  {
   "cell_type": "code",
   "execution_count": 32,
   "metadata": {},
   "outputs": [],
   "source": [
    "defaultrates_states1 = modeling1.groupby(['time','state_orig_time'])['default_time'].mean().unstack(level=1).add_prefix('defaultrate_').fillna(0).reset_index(drop=False)\n",
    "scaler = StandardScaler()\n",
    "defaultrates_states = scaler.fit_transform(defaultrates_states1)\n",
    "cov = np.cov(defaultrates_states.T)"
   ]
  },
  {
   "cell_type": "markdown",
   "metadata": {},
   "source": [
    "Obtener componentes principales usando método de potencia y deflación que nos ayudan a encontrar los eigenvectores asociados a los 2 eigenvalores de máximo módulo, respectivamente."
   ]
  },
  {
   "cell_type": "code",
   "execution_count": 33,
   "metadata": {},
   "outputs": [],
   "source": [
    "eigenvalor,eigenvector = potencia(cov,MAX=1000)\n",
    "eigenvalor2,eigenvector2 = deflacion(cov,MAX=1000)"
   ]
  },
  {
   "cell_type": "code",
   "execution_count": 34,
   "metadata": {},
   "outputs": [],
   "source": [
    "cp1 = eigenvector@defaultrates_states.T\n",
    "cp2 = eigenvector2@defaultrates_states.T"
   ]
  },
  {
   "cell_type": "markdown",
   "metadata": {},
   "source": [
    "### Resolucion del problema utilizando funciones predeterminadas"
   ]
  },
  {
   "cell_type": "code",
   "execution_count": 35,
   "metadata": {},
   "outputs": [],
   "source": [
    "pca=PCA()\n",
    "pca.fit(defaultrates_states)\n",
    "z = pca.transform(defaultrates_states)"
   ]
  },
  {
   "cell_type": "markdown",
   "metadata": {},
   "source": [
    "### Comparación de resultados entre los diferentes métodos"
   ]
  },
  {
   "cell_type": "markdown",
   "metadata": {},
   "source": [
    "Verificaremos que las componentes principales entre ambas estimaciones sean similares, calcularemos la aproximación con approx de pytest."
   ]
  },
  {
   "cell_type": "code",
   "execution_count": 36,
   "metadata": {},
   "outputs": [
    {
     "name": "stdout",
     "output_type": "stream",
     "text": [
      "True\n",
      "True\n"
     ]
    }
   ],
   "source": [
    "print(cp1 == approx(z[:,0], abs=1e-1, rel=1e-1))\n",
    "print(-cp2 == approx(z[:,1], abs=1e-1, rel=1e-1))"
   ]
  },
  {
   "cell_type": "markdown",
   "metadata": {},
   "source": [
    "### Introduccion de las componentes princiaples a la base de datos"
   ]
  },
  {
   "cell_type": "markdown",
   "metadata": {},
   "source": [
    "Una vez obtenido las dos compementos principales de mayor importancia, la importancia de la componente principal depende del módulo del eigenvalor respectivo. Procedemos a incoporarlas a las variables predictivas para posteriormente incoporar una regresión logística."
   ]
  },
  {
   "cell_type": "code",
   "execution_count": 37,
   "metadata": {},
   "outputs": [],
   "source": [
    "cpa = pd.DataFrame(pd.DataFrame([cp1,-cp2,defaultrates_states1['time']]).T)\n",
    "cpa = cpa.rename(columns={0:'cpa1',1:'cpa2',2:'time' })\n",
    "data_cpa = modeling1.merge(cpa,how='left')"
   ]
  },
  {
   "cell_type": "markdown",
   "metadata": {},
   "source": [
    "### Resolucion del problema utilizando herramientas avanzadas de optimizacion"
   ]
  },
  {
   "cell_type": "markdown",
   "metadata": {},
   "source": [
    "Uso de la función `estim_prob` que resuelve el problema de optimización."
   ]
  },
  {
   "cell_type": "code",
   "execution_count": 38,
   "metadata": {},
   "outputs": [
    {
     "name": "stdout",
     "output_type": "stream",
     "text": [
      "62153\n",
      "Evaluación de valor óptimo al resolver problema de optimización 13243.32927189312\n"
     ]
    }
   ],
   "source": [
    "fitted_values_cpa , model_cpa = estim_prob(data_cpa,['default_time', 'balance_time','interest_rate_time',\n",
    "                                               'rate_time','hpi_time',\n",
    "                                               'gdp_time','uer_time','REtype_CO_orig_time','REtype_SF_orig_time',\n",
    "                                               'investor_orig_time','balance_orig_time','FICO_orig_time','LTV_orig_time',\n",
    "                                               'Interest_Rate_orig_time','hpi_orig_time','LTV_time',\n",
    "                                               'cpa1','cpa2'])"
   ]
  },
  {
   "cell_type": "markdown",
   "metadata": {},
   "source": [
    "Los coeficientes de la regresión logística son los siguientes:"
   ]
  },
  {
   "cell_type": "code",
   "execution_count": 39,
   "metadata": {},
   "outputs": [
    {
     "data": {
      "text/plain": [
       "array([-5.546,  0.   ,  0.176,  0.15 , -0.01 ,  0.018,  0.01 , -0.045,\n",
       "       -0.004,  0.185, -0.   , -0.004,  0.022, -0.022,  0.012, -0.003,\n",
       "        0.125,  0.009])"
      ]
     },
     "execution_count": 39,
     "metadata": {},
     "output_type": "execute_result"
    }
   ],
   "source": [
    "model_cpa"
   ]
  },
  {
   "cell_type": "markdown",
   "metadata": {},
   "source": [
    "### Resolucion del problema utilizando funciones predeterminadas"
   ]
  },
  {
   "cell_type": "code",
   "execution_count": 40,
   "metadata": {},
   "outputs": [],
   "source": [
    "model_lr_cpa = smf.glm('default_time ~   balance_time + interest_rate_time + rate_time + hpi_time + gdp_time + uer_time + REtype_CO_orig_time + REtype_SF_orig_time + investor_orig_time + balance_orig_time + FICO_orig_time + LTV_orig_time + Interest_Rate_orig_time + hpi_orig_time + LTV_time + cpa1 + cpa2', family = sm.families.Binomial(), data = data_cpa).fit()"
   ]
  },
  {
   "cell_type": "markdown",
   "metadata": {},
   "source": [
    "### Comparacion de resultados entre los diferentes metodos"
   ]
  },
  {
   "cell_type": "markdown",
   "metadata": {},
   "source": [
    "Verificaremos que los coeficientes entre ambos son similares, calcularemos la aproximación de ambos vectores con approx de pytest."
   ]
  },
  {
   "cell_type": "code",
   "execution_count": 41,
   "metadata": {},
   "outputs": [
    {
     "name": "stdout",
     "output_type": "stream",
     "text": [
      "True\n"
     ]
    }
   ],
   "source": [
    "print(model_cpa == approx(np.array(model_lr_cpa.params), abs=1e-1, rel=1e-1))"
   ]
  },
  {
   "cell_type": "code",
   "execution_count": 42,
   "metadata": {},
   "outputs": [
    {
     "name": "stdout",
     "output_type": "stream",
     "text": [
      "                 Generalized Linear Model Regression Results                  \n",
      "==============================================================================\n",
      "Dep. Variable:           default_time   No. Observations:                62153\n",
      "Model:                            GLM   Df Residuals:                    62135\n",
      "Model Family:                Binomial   Df Model:                           17\n",
      "Link Function:                  logit   Scale:                          1.0000\n",
      "Method:                          IRLS   Log-Likelihood:                -6621.7\n",
      "Date:                Tue, 08 Dec 2020   Deviance:                       13243.\n",
      "Time:                        23:15:41   Pearson chi2:                 5.73e+04\n",
      "No. Iterations:                     8                                         \n",
      "Covariance Type:            nonrobust                                         \n",
      "===========================================================================================\n",
      "                              coef    std err          z      P>|z|      [0.025      0.975]\n",
      "-------------------------------------------------------------------------------------------\n",
      "Intercept                  -5.5461      0.719     -7.713      0.000      -6.955      -4.137\n",
      "balance_time             9.045e-06   1.59e-06      5.681      0.000    5.92e-06    1.22e-05\n",
      "interest_rate_time          0.1763      0.016     11.290      0.000       0.146       0.207\n",
      "rate_time                   0.1502      0.067      2.243      0.025       0.019       0.281\n",
      "hpi_time                   -0.0100      0.002     -4.754      0.000      -0.014      -0.006\n",
      "gdp_time                    0.0176      0.020      0.871      0.384      -0.022       0.057\n",
      "uer_time                    0.0099      0.025      0.404      0.686      -0.038       0.058\n",
      "REtype_CO_orig_time        -0.0454      0.125     -0.363      0.717      -0.290       0.200\n",
      "REtype_SF_orig_time        -0.0037      0.059     -0.062      0.950      -0.119       0.111\n",
      "investor_orig_time          0.1852      0.080      2.310      0.021       0.028       0.342\n",
      "balance_orig_time       -8.577e-06   1.65e-06     -5.201      0.000   -1.18e-05   -5.34e-06\n",
      "FICO_orig_time             -0.0039      0.000     -8.700      0.000      -0.005      -0.003\n",
      "LTV_orig_time               0.0219      0.003      6.831      0.000       0.016       0.028\n",
      "Interest_Rate_orig_time    -0.0216      0.008     -2.601      0.009      -0.038      -0.005\n",
      "hpi_orig_time               0.0123      0.001      9.651      0.000       0.010       0.015\n",
      "LTV_time                   -0.0030      0.002     -1.904      0.057      -0.006    8.66e-05\n",
      "cpa1                        0.1249      0.017      7.172      0.000       0.091       0.159\n",
      "cpa2                        0.0093      0.014      0.644      0.520      -0.019       0.038\n",
      "===========================================================================================\n"
     ]
    }
   ],
   "source": [
    "print(model_lr_cpa.summary())"
   ]
  },
  {
   "cell_type": "markdown",
   "metadata": {},
   "source": [
    "Podemos notar que al incoporar la información de los `state_orig_time` las variables que no son significativas vuelven a ser `REtype_CO_orig_time` y `REtype_CO_orig_time`."
   ]
  },
  {
   "cell_type": "code",
   "execution_count": 43,
   "metadata": {},
   "outputs": [],
   "source": [
    "PD_logit_model_cpa = pd.DataFrame(fitted_values_cpa, columns=['PD_logit_model'])"
   ]
  },
  {
   "cell_type": "code",
   "execution_count": 44,
   "metadata": {},
   "outputs": [],
   "source": [
    "data2_cpa = pd.merge(modeling1[['default_time','time']],PD_logit_model_cpa, right_index=True, left_index=True)"
   ]
  },
  {
   "cell_type": "code",
   "execution_count": 45,
   "metadata": {},
   "outputs": [
    {
     "data": {
      "image/png": "[encoded data removed]",
      "text/plain": [
       "<Figure size 432x288 with 1 Axes>"
      ]
     },
     "metadata": {
      "needs_background": "light"
     },
     "output_type": "display_data"
    }
   ],
   "source": [
    "grafica_medias(data2_cpa.PD_logit_model, data2_cpa.default_time, data2_cpa.time)"
   ]
  },
  {
   "cell_type": "markdown",
   "metadata": {},
   "source": [
    "La grafica muestra una subestimacion en la probabilidad de incumplimiento para los primeros periodos, mientras que a partir del tiempo 20 la estimacion muestra un comportamiento muy parecido a los valores reales."
   ]
  },
  {
   "cell_type": "code",
   "execution_count": 46,
   "metadata": {},
   "outputs": [
    {
     "data": {
      "image/png": "[encoded data removed]",
      "text/plain": [
       "<Figure size 432x288 with 1 Axes>"
      ]
     },
     "metadata": {
      "needs_background": "light"
     },
     "output_type": "display_data"
    }
   ],
   "source": [
    "grafica_ajuste(data2_cpa.PD_logit_model, data2_cpa.default_time, data2_cpa.time)"
   ]
  },
  {
   "cell_type": "markdown",
   "metadata": {},
   "source": [
    "El ajuste de las medias reales contra las medias ajustadas no presenta desviaciones considerables, incluso para valores dispersos esta comportamiento se mantiene."
   ]
  },
  {
   "cell_type": "markdown",
   "metadata": {},
   "source": [
    "### Resultados"
   ]
  },
  {
   "cell_type": "markdown",
   "metadata": {},
   "source": [
    "* El ajuste mediante regresión logística junto con componentes principales muestran un pronóstico similar a los valores reales. La información incluida dentro de 52 variables (Estados de USA) se pudo incoporar mediante componentes principales, reduciendo la dimensión a dos variables."
   ]
  },
  {
   "cell_type": "markdown",
   "metadata": {},
   "source": [
    "# c. Modelo de Regresión para uso en Credit Scoring (sobre el mapeo de WOE's)\n",
    "# Modelling 2"
   ]
  },
  {
   "cell_type": "markdown",
   "metadata": {},
   "source": [
    "*** Incorporar comentario que es por persona y no en el tiempo ***\n",
    "\n",
    "A continuación seleccionaremos las variables que se poseen al momento de la originación de un préstamo, dichas variables son las siguientes:\n",
    "* `id`\n",
    "* `REtype_CO_orig_time`\n",
    "* `REtype_PU_orig_time`\n",
    "* `REtype_SF_orig_time`\n",
    "* `investor_orig_time`\n",
    "* `balance_orig_time`\n",
    "* `FICO_orig_time`\n",
    "* `LTV_orig_time`\n",
    "* `Interest_Rate_orig_time`\n",
    "* `state_orig_time`\n",
    "* `hpi_orig_time`\n",
    "* `default_time`\n",
    "\n",
    "Cabe mencionar que la **variable dependiente** es `default_time`"
   ]
  },
  {
   "cell_type": "code",
   "execution_count": 47,
   "metadata": {},
   "outputs": [],
   "source": [
    "data_modelling = selected_data[[\"id\",'time',\"REtype_CO_orig_time\",\"REtype_PU_orig_time\",\"REtype_SF_orig_time\",\n",
    "                                \"investor_orig_time\",\"balance_orig_time\",\"FICO_orig_time\",\"LTV_orig_time\",\n",
    "                                \"Interest_Rate_orig_time\",\"state_orig_time\",\"hpi_orig_time\",\"default_time\"]]"
   ]
  },
  {
   "cell_type": "markdown",
   "metadata": {},
   "source": [
    "Seleccionamos los préstamos que fueron catalogados en *default* (no cumplir con la obligación de pago) en su respectivo trimestre"
   ]
  },
  {
   "cell_type": "code",
   "execution_count": 48,
   "metadata": {},
   "outputs": [],
   "source": [
    "data_default = data_modelling[(data_modelling.default_time == 1)]"
   ]
  },
  {
   "cell_type": "markdown",
   "metadata": {},
   "source": [
    "Ahora los que no catalogados como *default*"
   ]
  },
  {
   "cell_type": "code",
   "execution_count": 49,
   "metadata": {},
   "outputs": [],
   "source": [
    "data_no_default_aux = data_modelling[~data_modelling.id.isin(data_default.id.values)]\n",
    "data_no_default = data_no_default_aux.drop_duplicates(subset = [\"id\"])"
   ]
  },
  {
   "cell_type": "markdown",
   "metadata": {},
   "source": [
    "Y por último juntamos ambas particiones, esto con el fin de tener ordenada la base de datos en relación a la variable dependiente."
   ]
  },
  {
   "cell_type": "code",
   "execution_count": 50,
   "metadata": {},
   "outputs": [],
   "source": [
    "data_score = data_default.append(data_no_default)"
   ]
  },
  {
   "cell_type": "markdown",
   "metadata": {},
   "source": [
    "## Cálculo Weight of **Evidence** (*WOE*) y **IV** (*IV*)"
   ]
  },
  {
   "cell_type": "markdown",
   "metadata": {},
   "source": [
    "El [*WOE*](https://www.listendata.com/2015/03/weight-of-evidence-woe-and-information.html#What-is-Weight-of-Evidence-WOE-), acrónimo de Weight of Evidente puede llegar a ser confuso al inicio, pues no es un término muy conocido, sin embargo, su sencillez (en cuanto a la intuición) busca ser sencilla:\n",
    "\n",
    "* Es una medida de separación entre \"buenos clientes\" y \"malos clientes\", siendo los buenos clientes aquellos que sí cumplen con sus oblicaciones de pagos y los malos clientes aquellos que no cumplen, dichos pagos no cumplidos son catalogados como préstamos que caen en *default*.\n",
    "\n",
    "Su fórmula es la siguiente:\n",
    "\n",
    "$$ \\text{WOE} = \\text{ln} \\left( \\frac{\\% \\mathcal{D}}{\\% \\mathcal{N}_D} \\right)$$\n",
    "\n",
    "* En donde $\\% \\mathcal{D}$ corresponde a la fracción de préstamos catalogados como *default* (en este proyecto catologados con $1$ en la variable `default_time`). Mientras que $\\% \\mathcal{N}_D$ el complemento de la fracción anterior.\n",
    "* $\\text{ln}$ hace referencia a la función logaritmo natural\n",
    "\n",
    "Para el [*IV*](https://www.listendata.com/2015/03/weight-of-evidence-woe-and-information.html#What-is-Information-Value-IV-), acrónimo de Information of Value, es una técnica para medir la importancia de las variables en modelos predictivos, la cual, nos ayudará a elegir aquellas variables con mayor poder predictivo. La fórmula es la siguiente:\n",
    "\n",
    "$$ \\text{IV} = \\sum_{i=1}^n \\text{WOE}_i*(\\% \\mathcal{N}_D - \\% \\mathcal{D})$$\n"
   ]
  },
  {
   "cell_type": "code",
   "execution_count": 51,
   "metadata": {},
   "outputs": [],
   "source": [
    "data_score, outputIV1 = woe(data_in = data_score, target='default_time', variable = 'balance_orig_time', \n",
    "                            bins=5, binning = 'True')\n",
    "data_score, outputIV2 = woe(data_in = data_score, target='default_time', variable = 'FICO_orig_time', \n",
    "                            bins=5, binning = 'True')\n",
    "data_score, outputIV3 = woe(data_in = data_score, target='default_time', variable = 'LTV_orig_time', \n",
    "                            bins=5, binning = 'True')\n",
    "data_score, outputIV4 = woe(data_in = data_score, target='default_time', variable = 'Interest_Rate_orig_time', \n",
    "                            bins=5, binning = 'True')\n",
    "data_score, outputIV5 = woe(data_in = data_score, target='default_time', variable = 'hpi_orig_time', \n",
    "                            bins=5, binning = 'True')\n",
    "data_score, outputIV6 = woe(data_in = data_score, target='default_time', variable = 'REtype_CO_orig_time', \n",
    "                            bins=5, binning = 'False')\n",
    "data_score, outputIV7 = woe(data_in = data_score, target='default_time', variable = 'REtype_PU_orig_time', \n",
    "                            bins=5, binning = 'False')\n",
    "data_score, outputIV8 = woe(data_in = data_score, target='default_time', variable = 'REtype_SF_orig_time', \n",
    "                            bins=5, binning = 'False')"
   ]
  },
  {
   "cell_type": "markdown",
   "metadata": {},
   "source": [
    "A continuación se muestran los **IV** previamente calculados"
   ]
  },
  {
   "cell_type": "code",
   "execution_count": 52,
   "metadata": {},
   "outputs": [
    {
     "name": "stdout",
     "output_type": "stream",
     "text": [
      "                      name      IV\n",
      "0        balance_orig_time  0.0109\n",
      "0           FICO_orig_time  0.0923\n",
      "0            LTV_orig_time  0.0737\n",
      "0  Interest_Rate_orig_time  0.1256\n",
      "0            hpi_orig_time  0.5581\n",
      "0      REtype_CO_orig_time  0.0000\n",
      "0      REtype_PU_orig_time  0.0000\n",
      "0      REtype_SF_orig_time  0.0000\n"
     ]
    }
   ],
   "source": [
    "print(pd.concat([outputIV1, outputIV2, outputIV3, outputIV4, outputIV5, outputIV6, outputIV7, outputIV8]).\\\n",
    "      round(decimals=4))"
   ]
  },
  {
   "cell_type": "markdown",
   "metadata": {},
   "source": [
    "Cabe mencionar que para la gran mayoría de las variables de interés el **IV** es muy bajo a excepción de:\n",
    "1. `hpi_orig_time`\n",
    "1. `Interest_Rate_orig_time`\n",
    "1. `LTV_orig_time`\n",
    "1. `FICO_orig_time`\n",
    "\n",
    "Se posee la siguiente *heurística* (documentación en el libro de referencia y en la siguiente [página](https://www.listendata.com/2015/03/weight-of-evidence-woe-and-information.html#What-is-Information-Value-IV-)) para la siguiente clasificación del **IV** en relación a su poder predictivo:\n",
    "\n",
    "* **Muy bajo** si $\\text{IV} \\in (0, 0.02]$\n",
    "* **Poder débil** si $\\text{IV} \\in (0.02, 0.1]$\n",
    "* **Poder moderado** si $\\text{IV} \\in (0.1, 0.3]$\n",
    "* **Fuerte** si $\\text{IV} > 0.3$\n",
    "\n",
    "Por lo que, concluímos que:\n",
    "1. `hpi_orig_time`.- tiene **fuerte poder** predictivo\n",
    "1. `Interest_Rate_orig_time`.- tiene **poder moderado** predictivo\n",
    "1. `LTV_orig_time`.- tiene **poder débil** predictivo\n",
    "1. `FICO_orig_time`.- tiene **poder débil** predictivo\n",
    "\n",
    "Para las demás variables, el poder predictivo es **muy bajo**.\n",
    "\n",
    "Para el análisis, se excluirán las variables que tengan un **muy bajo** poder predictivo, pues no ayudarán a completar el objetivo de este estudio."
   ]
  },
  {
   "cell_type": "markdown",
   "metadata": {},
   "source": [
    "### Obtención del modelo"
   ]
  },
  {
   "cell_type": "markdown",
   "metadata": {},
   "source": [
    "Para esta parte se utilizará un modelo de **regresión logística** tomando en cuanta las variables que más ayudan a clasificar si un préstamo es default o no. Estas variables deben ser las que son originadas al momento de efectuar el préstamo (`orig_time`), pues queremos saber si dicho préstamo será o no default. Además, se utilizará la evidencia de dicha variable para predecir si el préstamo es o no default, los cuales ya fueron calculados previamente.\n",
    "\n",
    "* *FICO-WOE*\n",
    "* *LTV-WOE*\n",
    "* *Tasa de interés (interest rate)*\n",
    "* *HPI*"
   ]
  },
  {
   "cell_type": "markdown",
   "metadata": {},
   "source": [
    "Selección de features (variables) para el modelo"
   ]
  },
  {
   "cell_type": "code",
   "execution_count": 53,
   "metadata": {},
   "outputs": [],
   "source": [
    "data_score_regresion = data_score[[\"id\",\"default_time\", \"FICO_orig_time_WOE\", \n",
    "                                   \"LTV_orig_time_WOE\", \"Interest_Rate_orig_time_WOE\", \"hpi_orig_time_WOE\"]]"
   ]
  },
  {
   "cell_type": "code",
   "execution_count": 54,
   "metadata": {},
   "outputs": [],
   "source": [
    "variables = [\"default_time\", \n",
    "             \"FICO_orig_time_WOE\", \"LTV_orig_time_WOE\", \"Interest_Rate_orig_time_WOE\", \"hpi_orig_time_WOE\"]"
   ]
  },
  {
   "cell_type": "markdown",
   "metadata": {},
   "source": [
    "Uso de la función `estim_prob` que resuelve el problema de optimización"
   ]
  },
  {
   "cell_type": "code",
   "execution_count": 55,
   "metadata": {},
   "outputs": [
    {
     "name": "stdout",
     "output_type": "stream",
     "text": [
      "4979\n",
      "Evaluación de valor óptimo al resolver problema de optimización 5380.469772829628\n"
     ]
    }
   ],
   "source": [
    "pronostico, model = estim_prob(data_score_regresion, variables)"
   ]
  },
  {
   "cell_type": "code",
   "execution_count": 56,
   "metadata": {},
   "outputs": [
    {
     "name": "stdout",
     "output_type": "stream",
     "text": [
      "Variable:  FICO_orig_time_WOE  - \tCoeficiente estimado:  0.9153447890858508\n",
      "Variable:  LTV_orig_time_WOE  - \tCoeficiente estimado:  0.93815156895588\n",
      "Variable:  Interest_Rate_orig_time_WOE  - \tCoeficiente estimado:  0.4802144485719687\n",
      "Variable:  hpi_orig_time_WOE  - \tCoeficiente estimado:  0.9731582019734817\n"
     ]
    }
   ],
   "source": [
    "for i in range(1,5):\n",
    "    print('Variable: ', variables[i], ' - \\tCoeficiente estimado: ', model[i])"
   ]
  },
  {
   "cell_type": "code",
   "execution_count": 57,
   "metadata": {},
   "outputs": [],
   "source": [
    "data_time = pd.merge(data_score_regresion, selected_data['time'], left_index=True, right_index=True)"
   ]
  },
  {
   "cell_type": "code",
   "execution_count": 58,
   "metadata": {},
   "outputs": [
    {
     "data": {
      "image/png": "[encoded data removed]",
      "text/plain": [
       "<Figure size 432x288 with 1 Axes>"
      ]
     },
     "metadata": {
      "needs_background": "light"
     },
     "output_type": "display_data"
    }
   ],
   "source": [
    "grafica_ajuste(data2.PD_logit_model, data2.default_time, data2.time, continuous=False)"
   ]
  },
  {
   "cell_type": "markdown",
   "metadata": {},
   "source": [
    "El ajuste de las medias reales contra las medias ajustadas no presenta desviaciones considerables"
   ]
  },
  {
   "cell_type": "code",
   "execution_count": 59,
   "metadata": {},
   "outputs": [
    {
     "data": {
      "image/png": "[encoded data removed]",
      "text/plain": [
       "<Figure size 432x288 with 1 Axes>"
      ]
     },
     "metadata": {
      "needs_background": "light"
     },
     "output_type": "display_data"
    }
   ],
   "source": [
    "fpr, tpr, thresholds = roc_curve(data_score_regresion['default_time'], pronostico, pos_label=1)\n",
    "    \n",
    "plt.clf()\n",
    "plt.plot([0,1],[0,1], 'k--', c=\"red\")\n",
    "plt.plot(fpr, tpr)\n",
    "plt.title(\"ROC best RF, AUC: {}\".format(roc_auc_score(data_score_regresion['default_time'], pronostico)))\n",
    "plt.xlabel(\"fpr\")\n",
    "plt.ylabel(\"tpr\")\n",
    "plt.show()    "
   ]
  },
  {
   "cell_type": "markdown",
   "metadata": {},
   "source": [
    "Una manera de evaluar la discriminación dada por el modelo se realiza mediante la [Curva Roc](http://www.navan.name/roc/).\n",
    "Una curva alejada a la línea punteada representa un modelo de discriminación adecuado. "
   ]
  },
  {
   "cell_type": "markdown",
   "metadata": {},
   "source": [
    "Como comparación al modelo obtenido se utilizará el modelo modelo utilizando la librería [smf](https://www.statsmodels.org/stable/generated/statsmodels.formula.api.ols.html)"
   ]
  },
  {
   "cell_type": "code",
   "execution_count": 60,
   "metadata": {},
   "outputs": [],
   "source": [
    "model_score = smf.glm('default_time ~ FICO_orig_time_WOE + LTV_orig_time_WOE + \\\n",
    "                      Interest_Rate_orig_time_WOE + hpi_orig_time_WOE', \n",
    "                      family = sm.families.Binomial(), data = data_score_regresion).fit()"
   ]
  },
  {
   "cell_type": "markdown",
   "metadata": {},
   "source": [
    "A continuación se analizarán los coeficientes y *p-value* de cada feature obtenidos del modelo."
   ]
  },
  {
   "cell_type": "code",
   "execution_count": 61,
   "metadata": {},
   "outputs": [
    {
     "name": "stdout",
     "output_type": "stream",
     "text": [
      "                 Generalized Linear Model Regression Results                  \n",
      "==============================================================================\n",
      "Dep. Variable:           default_time   No. Observations:                 4979\n",
      "Model:                            GLM   Df Residuals:                     4974\n",
      "Model Family:                Binomial   Df Model:                            4\n",
      "Link Function:                  logit   Scale:                          1.0000\n",
      "Method:                          IRLS   Log-Likelihood:                -2690.2\n",
      "Date:                Tue, 08 Dec 2020   Deviance:                       5380.5\n",
      "Time:                        23:15:43   Pearson chi2:                 4.90e+03\n",
      "No. Iterations:                     5                                         \n",
      "Covariance Type:            nonrobust                                         \n",
      "===============================================================================================\n",
      "                                  coef    std err          z      P>|z|      [0.025      0.975]\n",
      "-----------------------------------------------------------------------------------------------\n",
      "Intercept                      -0.8222      0.034    -24.315      0.000      -0.888      -0.756\n",
      "FICO_orig_time_WOE              0.9153      0.117      7.854      0.000       0.687       1.144\n",
      "LTV_orig_time_WOE               0.9382      0.128      7.319      0.000       0.687       1.189\n",
      "Interest_Rate_orig_time_WOE     0.4802      0.096      5.002      0.000       0.292       0.668\n",
      "hpi_orig_time_WOE               0.9732      0.046     20.978      0.000       0.882       1.064\n",
      "===============================================================================================\n"
     ]
    }
   ],
   "source": [
    "print(model_score.summary())"
   ]
  },
  {
   "cell_type": "markdown",
   "metadata": {},
   "source": [
    "Verificaremos que los coeficientes enttr ambos son similares, calcularemos la aproximación de ambos vectores con approx de pytest."
   ]
  },
  {
   "cell_type": "code",
   "execution_count": 62,
   "metadata": {},
   "outputs": [
    {
     "name": "stdout",
     "output_type": "stream",
     "text": [
      "True\n"
     ]
    }
   ],
   "source": [
    "print(model == approx(np.array(model_score.params), abs=1e-1, rel=1e-1))"
   ]
  },
  {
   "cell_type": "markdown",
   "metadata": {},
   "source": [
    "### Resultados"
   ]
  },
  {
   "cell_type": "markdown",
   "metadata": {},
   "source": [
    "* Los parámetros tienen un coeficiente positivo, por los que incrementos en cada una de ellos tendrán un efecto (no directamente proporcional) positivo en la estimación de la probabilidad para determinar si un préstamo será catalogado como default o no.\n",
    "* Este tipo de análisis busca proporcionar probabilidades de incumplimiento por individuo, para lo cual se aplican la funcion logística a cada crédito con los valores de sus caracteríticas y sus correspondientes coeficientes. Posteriormente mediante una transformación se asignan puntos o puntos de corte para obtener un score."
   ]
  },
  {
   "cell_type": "markdown",
   "metadata": {},
   "source": [
    "# d. Conclusiones"
   ]
  },
  {
   "cell_type": "markdown",
   "metadata": {},
   "source": [
    "* Las aproximaciones a los parámetros de los modelos de regresión logística son muy similares entre los métodos utilizados del curso y con los obtenidos con `glm`.\n",
    "* Se complementó el análisis del modelo con la función de la librería `glm` con los *valores p* y se mostró que el uso de las transformaciones utilizadas en la metodología *WOE* e *IV* que ayudan a seleccionar variables cuyo poder explicativo (en relación a la variable dependiente `default_time`) incrementa considerablemente.\n",
    "* En relación a la sección de Análisis de Componentes Principales, para fines prácticos y académicos únicamente se utilizaron las primeras 2 componentes principales, las cuales fueron obtenidas de manera simple y sus aproximaciones fueron altas. Dado que los $2$ eigenvalores de máximo módulo no se encuentran muy cercanos entre ellos la convergencia del método es alta (no fue necesario de muchas implementaciones del algoritmo). \n",
    "* Para la obtención de las Componentes Principales se pudo haber planteado un problema de optimización (no convexo) utilizando las condiciones de Karosh-Kuhn-Tucker ([KKT](https://es.wikipedia.org/wiki/Condiciones_de_Karush-Kuhn-Tucker)), sin embargo, para ello habría que dar tantas condiciones iniciales como componentes principales se deseara obtener. Como comentario adicional, quizá ciertas combinaciones de condiciones iniciales pudiesen llegar a las mismas Componentes Principales, fue por esta última razón por la cual se optó trabajar con el método de la Potencia y de deflación.\n",
    "* La estimación de las probabilidades de incumplimiento no es una tarea sencilla y a pesar de que en este proyecto se presentaron $2$ maneras de realizar dicha estimación en la práctica los modelos predictivos deben y son más robustos que los obtenidos en este proyecto."
   ]
  },
  {
   "cell_type": "markdown",
   "metadata": {},
   "source": [
    "# e. Software y referencias\n",
    "* El lenguaje de programación utilizado en este proyecto es `Python` \n",
    "\n",
    "* De manera adicional, se levantó una [instancia **S3**](http://ec2-3-83-103-223.compute-1.amazonaws.com:8888/lab) en AWS, la cual nos apoyó a trabajar de manera \"continua\" sobre una serie de algoritmos.\n",
    "\n",
    "* *Rosch Daniel*, Scheule Harald. Deep Credit Risk. 2020. Amazon Fulfillment, Polonia.\n",
    "\n",
    "* *Siddiqi, Naeem*. Credit Risk Scorecards, Developing and Implementing Credit Scoring. 2006. Wiley, New Jersey "
   ]
  }
 ],
 "metadata": {
  "kernelspec": {
   "display_name": "Python 3",
   "language": "python",
   "name": "python3"
  },
  "language_info": {
   "codemirror_mode": {
    "name": "ipython",
    "version": 3
   },
   "file_extension": ".py",
   "mimetype": "text/x-python",
   "name": "python",
   "nbconvert_exporter": "python",
   "pygments_lexer": "ipython3",
   "version": "3.7.3"
  }
 },
 "nbformat": 4,
 "nbformat_minor": 2
}

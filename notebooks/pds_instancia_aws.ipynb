{
 "cells": [
  {
   "cell_type": "markdown",
   "metadata": {},
   "source": [
    "# ESTIMACIÓN DE PROBABILIDADES DE INCUMPLIMIENTO EN EL TIEMPO"
   ]
  },
  {
   "cell_type": "markdown",
   "metadata": {},
   "source": [
    "La obtención de probabilidades de incumplimiento es una parte fundamental en la toma de decisiones en las instituciones de crédito. La probabilidad de incumplimiento se define en general como la probabilidad de que un acreditado no cumpla con las obligaciones de su crédito durante 90 días o más."
   ]
  },
  {
   "cell_type": "markdown",
   "metadata": {},
   "source": [
    "## 1. Objetivo:"
   ]
  },
  {
   "cell_type": "markdown",
   "metadata": {},
   "source": [
    "Análisis de las Probabilidades de Incumplimiento de créditos hipotecarios de Estados Unidos para identificar periodos de crisis mediante el uso de las herramientas vistas en el curso de Análisis Numérico y Computo Científico."
   ]
  },
  {
   "cell_type": "markdown",
   "metadata": {},
   "source": [
    "## 2. Datos:"
   ]
  },
  {
   "cell_type": "markdown",
   "metadata": {},
   "source": [
    "Se utilizará la información de 60 trimestres de 5000 créditos hipotecarios de Estados Unidos tomada de protafolios bursatilizado (RMBSs) a partir del año 2000 (hasta 2015). El proveedor de la base es el International Financial Reasearch (www.internationalfinancialreaserch.org), y se tiene acceso a ella por la adquisición del libro Deep Credit Risk de Daniel Rosch y Harald Scheule, que es la principal fuente de este trabajo."
   ]
  },
  {
   "cell_type": "markdown",
   "metadata": {},
   "source": [
    "## 3. Desarrollo:"
   ]
  },
  {
   "cell_type": "markdown",
   "metadata": {},
   "source": [
    "Importación de las librerías"
   ]
  },
  {
   "cell_type": "code",
   "execution_count": 75,
   "metadata": {},
   "outputs": [],
   "source": [
    "import matplotlib.pyplot as plt\n",
    "import numpy as np\n",
    "import numpy.matlib\n",
    "import pandas as pd\n",
    "import sklearn\n",
    "import statsmodels.api as sm\n",
    "import statsmodels.formula.api as smf\n",
    "import cvxpy as cp\n",
    "\n",
    "from numpy import linalg\n",
    "from sklearn.decomposition import PCA\n",
    "from sklearn.preprocessing import StandardScaler\n",
    "\n",
    "#import utils_pds as utils\n",
    "\n",
    "import utils_pds2 as utils2\n",
    "\n",
    "## Las siguientes librerias se usan en caso de correr en AWS\n",
    "#import boto3 \n",
    "#import io\n",
    "#from io import StringIO"
   ]
  },
  {
   "cell_type": "code",
   "execution_count": 76,
   "metadata": {},
   "outputs": [],
   "source": [
    "#Esta función se utiliza para determinar el número de dígitos de precisión que se imprimen\n",
    "np.set_printoptions(precision=3, suppress=True)"
   ]
  },
  {
   "cell_type": "code",
   "execution_count": 77,
   "metadata": {},
   "outputs": [],
   "source": [
    "# Estas líneas son para el caso de correr este código en AWS\n",
    "### Conexión a la instancia, S3\n",
    "\n",
    "##Definición de los parámetros para la conexión a S3\n",
    "#s3client = boto3.client(\n",
    "#    's3',\n",
    "#    region_name='us-east-1'\n",
    "#)\n",
    "\n",
    "##Asignación del nombre del bucket de S3 y de los datos\n",
    "#bucketname = \"bucketmno2020arenitss\"\n",
    "#file_to_read = \"data_t_final.csv\"\n",
    "#Definición objeto de S3 para conectarnos\n",
    "#fileobj = s3client.get_object(\n",
    "#    Bucket=bucketname,\n",
    "#    Key=file_to_read\n",
    "#    )\n",
    "\n",
    "### Lectura del archivo, decodificación  y conversión a dataframe\n",
    "#Lectura del archivo\n",
    "#filedata = fileobj['Body'].read()\n",
    "\n",
    "##Decodificación del archivo\n",
    "#contenido = filedata.decode('utf-8')\n",
    "\n",
    "##Tipo de archivo\n",
    "#type(contenido)\n",
    "\n",
    "##Conversión del archivo a dataframe\n",
    "#StringData = StringIO(contenido)\n",
    "\n",
    "##Lectura del archivo\n",
    "#df = pd.read_csv(StringData)"
   ]
  },
  {
   "cell_type": "code",
   "execution_count": 78,
   "metadata": {},
   "outputs": [],
   "source": [
    "df = pd.read_csv('/home/oscarperez/Documentos/OSCAR/MNO_2020/datos/data_t_final.csv')"
   ]
  },
  {
   "cell_type": "markdown",
   "metadata": {},
   "source": [
    "Visualización del archivo"
   ]
  },
  {
   "cell_type": "code",
   "execution_count": 79,
   "metadata": {},
   "outputs": [
    {
     "data": {
      "text/html": [
       "<div>\n",
       "<style scoped>\n",
       "    .dataframe tbody tr th:only-of-type {\n",
       "        vertical-align: middle;\n",
       "    }\n",
       "\n",
       "    .dataframe tbody tr th {\n",
       "        vertical-align: top;\n",
       "    }\n",
       "\n",
       "    .dataframe thead th {\n",
       "        text-align: right;\n",
       "    }\n",
       "</style>\n",
       "<table border=\"1\" class=\"dataframe\">\n",
       "  <thead>\n",
       "    <tr style=\"text-align: right;\">\n",
       "      <th></th>\n",
       "      <th>id</th>\n",
       "      <th>time</th>\n",
       "      <th>orig_time</th>\n",
       "      <th>first_time</th>\n",
       "      <th>mat_time</th>\n",
       "      <th>res_time</th>\n",
       "      <th>balance_time</th>\n",
       "      <th>LTV_time</th>\n",
       "      <th>interest_rate_time</th>\n",
       "      <th>rate_time</th>\n",
       "      <th>...</th>\n",
       "      <th>FICO_orig_time</th>\n",
       "      <th>LTV_orig_time</th>\n",
       "      <th>Interest_Rate_orig_time</th>\n",
       "      <th>state_orig_time</th>\n",
       "      <th>hpi_orig_time</th>\n",
       "      <th>default_time</th>\n",
       "      <th>payoff_time</th>\n",
       "      <th>status_time</th>\n",
       "      <th>lgd_time</th>\n",
       "      <th>recovery_res</th>\n",
       "    </tr>\n",
       "  </thead>\n",
       "  <tbody>\n",
       "    <tr>\n",
       "      <th>0</th>\n",
       "      <td>4</td>\n",
       "      <td>25</td>\n",
       "      <td>-2</td>\n",
       "      <td>25</td>\n",
       "      <td>119</td>\n",
       "      <td>NaN</td>\n",
       "      <td>61031.10</td>\n",
       "      <td>33.911009</td>\n",
       "      <td>10.500</td>\n",
       "      <td>5.90</td>\n",
       "      <td>...</td>\n",
       "      <td>587</td>\n",
       "      <td>81.8</td>\n",
       "      <td>10.5</td>\n",
       "      <td>KY</td>\n",
       "      <td>97.99</td>\n",
       "      <td>0</td>\n",
       "      <td>0</td>\n",
       "      <td>0</td>\n",
       "      <td>NaN</td>\n",
       "      <td>NaN</td>\n",
       "    </tr>\n",
       "    <tr>\n",
       "      <th>1</th>\n",
       "      <td>4</td>\n",
       "      <td>26</td>\n",
       "      <td>-2</td>\n",
       "      <td>25</td>\n",
       "      <td>119</td>\n",
       "      <td>NaN</td>\n",
       "      <td>60882.42</td>\n",
       "      <td>34.007232</td>\n",
       "      <td>10.500</td>\n",
       "      <td>5.90</td>\n",
       "      <td>...</td>\n",
       "      <td>587</td>\n",
       "      <td>81.8</td>\n",
       "      <td>10.5</td>\n",
       "      <td>KY</td>\n",
       "      <td>97.99</td>\n",
       "      <td>0</td>\n",
       "      <td>0</td>\n",
       "      <td>0</td>\n",
       "      <td>NaN</td>\n",
       "      <td>NaN</td>\n",
       "    </tr>\n",
       "    <tr>\n",
       "      <th>2</th>\n",
       "      <td>4</td>\n",
       "      <td>27</td>\n",
       "      <td>-2</td>\n",
       "      <td>25</td>\n",
       "      <td>119</td>\n",
       "      <td>NaN</td>\n",
       "      <td>60729.80</td>\n",
       "      <td>34.335349</td>\n",
       "      <td>10.500</td>\n",
       "      <td>5.90</td>\n",
       "      <td>...</td>\n",
       "      <td>587</td>\n",
       "      <td>81.8</td>\n",
       "      <td>10.5</td>\n",
       "      <td>KY</td>\n",
       "      <td>97.99</td>\n",
       "      <td>0</td>\n",
       "      <td>0</td>\n",
       "      <td>0</td>\n",
       "      <td>NaN</td>\n",
       "      <td>NaN</td>\n",
       "    </tr>\n",
       "    <tr>\n",
       "      <th>3</th>\n",
       "      <td>4</td>\n",
       "      <td>28</td>\n",
       "      <td>-2</td>\n",
       "      <td>25</td>\n",
       "      <td>119</td>\n",
       "      <td>NaN</td>\n",
       "      <td>60576.14</td>\n",
       "      <td>34.672545</td>\n",
       "      <td>10.875</td>\n",
       "      <td>5.90</td>\n",
       "      <td>...</td>\n",
       "      <td>587</td>\n",
       "      <td>81.8</td>\n",
       "      <td>10.5</td>\n",
       "      <td>KY</td>\n",
       "      <td>97.99</td>\n",
       "      <td>0</td>\n",
       "      <td>0</td>\n",
       "      <td>0</td>\n",
       "      <td>NaN</td>\n",
       "      <td>NaN</td>\n",
       "    </tr>\n",
       "    <tr>\n",
       "      <th>4</th>\n",
       "      <td>4</td>\n",
       "      <td>29</td>\n",
       "      <td>-2</td>\n",
       "      <td>25</td>\n",
       "      <td>119</td>\n",
       "      <td>NaN</td>\n",
       "      <td>60424.39</td>\n",
       "      <td>34.951639</td>\n",
       "      <td>10.875</td>\n",
       "      <td>5.90</td>\n",
       "      <td>...</td>\n",
       "      <td>587</td>\n",
       "      <td>81.8</td>\n",
       "      <td>10.5</td>\n",
       "      <td>KY</td>\n",
       "      <td>97.99</td>\n",
       "      <td>0</td>\n",
       "      <td>0</td>\n",
       "      <td>0</td>\n",
       "      <td>NaN</td>\n",
       "      <td>NaN</td>\n",
       "    </tr>\n",
       "    <tr>\n",
       "      <th>...</th>\n",
       "      <td>...</td>\n",
       "      <td>...</td>\n",
       "      <td>...</td>\n",
       "      <td>...</td>\n",
       "      <td>...</td>\n",
       "      <td>...</td>\n",
       "      <td>...</td>\n",
       "      <td>...</td>\n",
       "      <td>...</td>\n",
       "      <td>...</td>\n",
       "      <td>...</td>\n",
       "      <td>...</td>\n",
       "      <td>...</td>\n",
       "      <td>...</td>\n",
       "      <td>...</td>\n",
       "      <td>...</td>\n",
       "      <td>...</td>\n",
       "      <td>...</td>\n",
       "      <td>...</td>\n",
       "      <td>...</td>\n",
       "      <td>...</td>\n",
       "    </tr>\n",
       "    <tr>\n",
       "      <th>62173</th>\n",
       "      <td>49972</td>\n",
       "      <td>52</td>\n",
       "      <td>25</td>\n",
       "      <td>52</td>\n",
       "      <td>145</td>\n",
       "      <td>NaN</td>\n",
       "      <td>180673.24</td>\n",
       "      <td>103.306966</td>\n",
       "      <td>7.500</td>\n",
       "      <td>5.15</td>\n",
       "      <td>...</td>\n",
       "      <td>708</td>\n",
       "      <td>79.8</td>\n",
       "      <td>7.5</td>\n",
       "      <td>AL</td>\n",
       "      <td>226.29</td>\n",
       "      <td>0</td>\n",
       "      <td>0</td>\n",
       "      <td>0</td>\n",
       "      <td>NaN</td>\n",
       "      <td>NaN</td>\n",
       "    </tr>\n",
       "    <tr>\n",
       "      <th>62174</th>\n",
       "      <td>49972</td>\n",
       "      <td>53</td>\n",
       "      <td>25</td>\n",
       "      <td>52</td>\n",
       "      <td>145</td>\n",
       "      <td>NaN</td>\n",
       "      <td>179944.95</td>\n",
       "      <td>95.736862</td>\n",
       "      <td>7.500</td>\n",
       "      <td>5.15</td>\n",
       "      <td>...</td>\n",
       "      <td>708</td>\n",
       "      <td>79.8</td>\n",
       "      <td>7.5</td>\n",
       "      <td>AL</td>\n",
       "      <td>226.29</td>\n",
       "      <td>0</td>\n",
       "      <td>0</td>\n",
       "      <td>0</td>\n",
       "      <td>NaN</td>\n",
       "      <td>NaN</td>\n",
       "    </tr>\n",
       "    <tr>\n",
       "      <th>62175</th>\n",
       "      <td>49972</td>\n",
       "      <td>54</td>\n",
       "      <td>25</td>\n",
       "      <td>52</td>\n",
       "      <td>145</td>\n",
       "      <td>NaN</td>\n",
       "      <td>179451.81</td>\n",
       "      <td>91.867079</td>\n",
       "      <td>7.500</td>\n",
       "      <td>5.15</td>\n",
       "      <td>...</td>\n",
       "      <td>708</td>\n",
       "      <td>79.8</td>\n",
       "      <td>7.5</td>\n",
       "      <td>AL</td>\n",
       "      <td>226.29</td>\n",
       "      <td>0</td>\n",
       "      <td>0</td>\n",
       "      <td>0</td>\n",
       "      <td>NaN</td>\n",
       "      <td>NaN</td>\n",
       "    </tr>\n",
       "    <tr>\n",
       "      <th>62176</th>\n",
       "      <td>49972</td>\n",
       "      <td>55</td>\n",
       "      <td>25</td>\n",
       "      <td>52</td>\n",
       "      <td>145</td>\n",
       "      <td>NaN</td>\n",
       "      <td>178952.48</td>\n",
       "      <td>91.560581</td>\n",
       "      <td>7.500</td>\n",
       "      <td>5.15</td>\n",
       "      <td>...</td>\n",
       "      <td>708</td>\n",
       "      <td>79.8</td>\n",
       "      <td>7.5</td>\n",
       "      <td>AL</td>\n",
       "      <td>226.29</td>\n",
       "      <td>0</td>\n",
       "      <td>0</td>\n",
       "      <td>0</td>\n",
       "      <td>NaN</td>\n",
       "      <td>NaN</td>\n",
       "    </tr>\n",
       "    <tr>\n",
       "      <th>62177</th>\n",
       "      <td>49972</td>\n",
       "      <td>56</td>\n",
       "      <td>25</td>\n",
       "      <td>52</td>\n",
       "      <td>145</td>\n",
       "      <td>NaN</td>\n",
       "      <td>178952.48</td>\n",
       "      <td>90.874242</td>\n",
       "      <td>7.500</td>\n",
       "      <td>5.15</td>\n",
       "      <td>...</td>\n",
       "      <td>708</td>\n",
       "      <td>79.8</td>\n",
       "      <td>7.5</td>\n",
       "      <td>AL</td>\n",
       "      <td>226.29</td>\n",
       "      <td>1</td>\n",
       "      <td>0</td>\n",
       "      <td>1</td>\n",
       "      <td>0.0</td>\n",
       "      <td>178952.48</td>\n",
       "    </tr>\n",
       "  </tbody>\n",
       "</table>\n",
       "<p>62178 rows × 28 columns</p>\n",
       "</div>"
      ],
      "text/plain": [
       "          id  time  orig_time  first_time  mat_time  res_time  balance_time  \\\n",
       "0          4    25         -2          25       119       NaN      61031.10   \n",
       "1          4    26         -2          25       119       NaN      60882.42   \n",
       "2          4    27         -2          25       119       NaN      60729.80   \n",
       "3          4    28         -2          25       119       NaN      60576.14   \n",
       "4          4    29         -2          25       119       NaN      60424.39   \n",
       "...      ...   ...        ...         ...       ...       ...           ...   \n",
       "62173  49972    52         25          52       145       NaN     180673.24   \n",
       "62174  49972    53         25          52       145       NaN     179944.95   \n",
       "62175  49972    54         25          52       145       NaN     179451.81   \n",
       "62176  49972    55         25          52       145       NaN     178952.48   \n",
       "62177  49972    56         25          52       145       NaN     178952.48   \n",
       "\n",
       "         LTV_time  interest_rate_time  rate_time  ...  FICO_orig_time  \\\n",
       "0       33.911009              10.500       5.90  ...             587   \n",
       "1       34.007232              10.500       5.90  ...             587   \n",
       "2       34.335349              10.500       5.90  ...             587   \n",
       "3       34.672545              10.875       5.90  ...             587   \n",
       "4       34.951639              10.875       5.90  ...             587   \n",
       "...           ...                 ...        ...  ...             ...   \n",
       "62173  103.306966               7.500       5.15  ...             708   \n",
       "62174   95.736862               7.500       5.15  ...             708   \n",
       "62175   91.867079               7.500       5.15  ...             708   \n",
       "62176   91.560581               7.500       5.15  ...             708   \n",
       "62177   90.874242               7.500       5.15  ...             708   \n",
       "\n",
       "       LTV_orig_time  Interest_Rate_orig_time  state_orig_time  hpi_orig_time  \\\n",
       "0               81.8                     10.5               KY          97.99   \n",
       "1               81.8                     10.5               KY          97.99   \n",
       "2               81.8                     10.5               KY          97.99   \n",
       "3               81.8                     10.5               KY          97.99   \n",
       "4               81.8                     10.5               KY          97.99   \n",
       "...              ...                      ...              ...            ...   \n",
       "62173           79.8                      7.5               AL         226.29   \n",
       "62174           79.8                      7.5               AL         226.29   \n",
       "62175           79.8                      7.5               AL         226.29   \n",
       "62176           79.8                      7.5               AL         226.29   \n",
       "62177           79.8                      7.5               AL         226.29   \n",
       "\n",
       "       default_time  payoff_time  status_time  lgd_time  recovery_res  \n",
       "0                 0            0            0       NaN           NaN  \n",
       "1                 0            0            0       NaN           NaN  \n",
       "2                 0            0            0       NaN           NaN  \n",
       "3                 0            0            0       NaN           NaN  \n",
       "4                 0            0            0       NaN           NaN  \n",
       "...             ...          ...          ...       ...           ...  \n",
       "62173             0            0            0       NaN           NaN  \n",
       "62174             0            0            0       NaN           NaN  \n",
       "62175             0            0            0       NaN           NaN  \n",
       "62176             0            0            0       NaN           NaN  \n",
       "62177             1            0            1       0.0     178952.48  \n",
       "\n",
       "[62178 rows x 28 columns]"
      ]
     },
     "execution_count": 79,
     "metadata": {},
     "output_type": "execute_result"
    }
   ],
   "source": [
    "df"
   ]
  },
  {
   "cell_type": "markdown",
   "metadata": {},
   "source": [
    "Quitamos algunos nulos"
   ]
  },
  {
   "cell_type": "code",
   "execution_count": 80,
   "metadata": {},
   "outputs": [],
   "source": [
    "data = df.dropna(subset=['time', 'default_time','LTV_time', 'FICO_orig_time','state_orig_time']).copy()"
   ]
  },
  {
   "cell_type": "markdown",
   "metadata": {},
   "source": [
    "## 3.1 Data Engineering\n",
    "\n",
    "Para esta parte se correrá una regresión logística para revisar qué variables tienen mejor p-value y se usará PCA para reducir dimensionalidad "
   ]
  },
  {
   "cell_type": "markdown",
   "metadata": {},
   "source": [
    "Impresión del nombre de las columnas de la base"
   ]
  },
  {
   "cell_type": "code",
   "execution_count": 81,
   "metadata": {},
   "outputs": [
    {
     "name": "stdout",
     "output_type": "stream",
     "text": [
      "id\n",
      "time\n",
      "orig_time\n",
      "first_time\n",
      "mat_time\n",
      "res_time\n",
      "balance_time\n",
      "LTV_time\n",
      "interest_rate_time\n",
      "rate_time\n",
      "hpi_time\n",
      "gdp_time\n",
      "uer_time\n",
      "REtype_CO_orig_time\n",
      "REtype_PU_orig_time\n",
      "REtype_SF_orig_time\n",
      "investor_orig_time\n",
      "balance_orig_time\n",
      "FICO_orig_time\n",
      "LTV_orig_time\n",
      "Interest_Rate_orig_time\n",
      "state_orig_time\n",
      "hpi_orig_time\n",
      "default_time\n",
      "payoff_time\n",
      "status_time\n",
      "lgd_time\n",
      "recovery_res\n"
     ]
    }
   ],
   "source": [
    "for col in data.columns: \n",
    "    print(col) "
   ]
  },
  {
   "cell_type": "markdown",
   "metadata": {},
   "source": [
    "### Parte 1. Modelo Ajuste de regresión logística para determinar las variables más explicativas"
   ]
  },
  {
   "cell_type": "markdown",
   "metadata": {},
   "source": [
    "La variable dependiente del modelo de regresión logística es \"default-time\" que da información relacionada con el incumplimiento de pago en cada período de tiempo. Es una variable binomial con valores 0 o 1."
   ]
  },
  {
   "cell_type": "markdown",
   "metadata": {},
   "source": [
    "La regresión se realiza utilizando una función para modelo lineales generalizados, que admiten varios tipos de familias. Para este ejercicio se tomó un binomial (logśitica) en todas las varibles de la base."
   ]
  },
  {
   "cell_type": "markdown",
   "metadata": {},
   "source": [
    "Se hace la regresión con el optimizador visto en clase (la función está cargada en utils_pds):"
   ]
  },
  {
   "cell_type": "code",
   "execution_count": 82,
   "metadata": {},
   "outputs": [
    {
     "name": "stdout",
     "output_type": "stream",
     "text": [
      "61803\n",
      "Evaluación de valor óptimo al resolver problema de optimización 13237.629423980561\n"
     ]
    },
    {
     "data": {
      "text/plain": [
       "(array([0.008, 0.008, 0.008, ..., 0.025, 0.023, 0.024]),\n",
       " array([-4.889,  0.   , -0.003,  0.19 ,  0.122, -0.013, -0.092, -0.04 ,\n",
       "         0.066,  0.225,  0.083,  0.213, -0.   , -0.004,  0.022, -0.02 ,\n",
       "         0.015]))"
      ]
     },
     "execution_count": 82,
     "metadata": {},
     "output_type": "execute_result"
    }
   ],
   "source": [
    "utils2.estim_prob(data=data, variables = ['default_time', 'balance_time', 'LTV_time', 'interest_rate_time', 'rate_time', 'hpi_time', 'gdp_time', 'uer_time', 'REtype_CO_orig_time', 'REtype_PU_orig_time', 'REtype_SF_orig_time', 'investor_orig_time', 'balance_orig_time', 'FICO_orig_time', 'LTV_orig_time', 'Interest_Rate_orig_time', 'hpi_orig_time'], default = \"default_time\")"
   ]
  },
  {
   "cell_type": "markdown",
   "metadata": {},
   "source": [
    "Revisamos los resultados con la función glm (nótese la simmilitud de los coeficientes:"
   ]
  },
  {
   "cell_type": "code",
   "execution_count": 83,
   "metadata": {},
   "outputs": [],
   "source": [
    "model_lr = smf.glm('default_time ~ balance_time + LTV_time + interest_rate_time + rate_time + hpi_time + gdp_time + uer_time + REtype_CO_orig_time + REtype_PU_orig_time + REtype_SF_orig_time + investor_orig_time + balance_orig_time + FICO_orig_time + LTV_orig_time + Interest_Rate_orig_time + hpi_orig_time', family = sm.families.Binomial(), data = data).fit()"
   ]
  },
  {
   "cell_type": "code",
   "execution_count": 84,
   "metadata": {},
   "outputs": [
    {
     "name": "stdout",
     "output_type": "stream",
     "text": [
      "                 Generalized Linear Model Regression Results                  \n",
      "==============================================================================\n",
      "Dep. Variable:           default_time   No. Observations:                61803\n",
      "Model:                            GLM   Df Residuals:                    61786\n",
      "Model Family:                Binomial   Df Model:                           16\n",
      "Link Function:                  logit   Scale:                          1.0000\n",
      "Method:                          IRLS   Log-Likelihood:                -6618.8\n",
      "Date:                Tue, 08 Dec 2020   Deviance:                       13238.\n",
      "Time:                        11:39:17   Pearson chi2:                 5.70e+04\n",
      "No. Iterations:                     8                                         \n",
      "Covariance Type:            nonrobust                                         \n",
      "===========================================================================================\n",
      "                              coef    std err          z      P>|z|      [0.025      0.975]\n",
      "-------------------------------------------------------------------------------------------\n",
      "Intercept                  -4.8888      0.689     -7.095      0.000      -6.239      -3.538\n",
      "balance_time             9.002e-06   1.59e-06      5.676      0.000    5.89e-06    1.21e-05\n",
      "LTV_time                   -0.0030      0.002     -1.894      0.058      -0.006       0.000\n",
      "interest_rate_time          0.1897      0.016     11.901      0.000       0.158       0.221\n",
      "rate_time                   0.1220      0.069      1.775      0.076      -0.013       0.257\n",
      "hpi_time                   -0.0134      0.002     -6.926      0.000      -0.017      -0.010\n",
      "gdp_time                   -0.0923      0.013     -6.964      0.000      -0.118      -0.066\n",
      "uer_time                   -0.0397      0.023     -1.763      0.078      -0.084       0.004\n",
      "REtype_CO_orig_time         0.0655      0.132      0.497      0.619      -0.193       0.324\n",
      "REtype_PU_orig_time         0.2253      0.097      2.330      0.020       0.036       0.415\n",
      "REtype_SF_orig_time         0.0832      0.071      1.165      0.244      -0.057       0.223\n",
      "investor_orig_time          0.2132      0.081      2.638      0.008       0.055       0.372\n",
      "balance_orig_time       -8.496e-06   1.64e-06     -5.173      0.000   -1.17e-05   -5.28e-06\n",
      "FICO_orig_time             -0.0038      0.000     -8.461      0.000      -0.005      -0.003\n",
      "LTV_orig_time               0.0220      0.003      6.848      0.000       0.016       0.028\n",
      "Interest_Rate_orig_time    -0.0204      0.008     -2.441      0.015      -0.037      -0.004\n",
      "hpi_orig_time               0.0147      0.001     11.462      0.000       0.012       0.017\n",
      "===========================================================================================\n"
     ]
    }
   ],
   "source": [
    "print(model_lr.summary())"
   ]
  },
  {
   "cell_type": "markdown",
   "metadata": {},
   "source": [
    "Con relación a los p_values podemos observar que la mayoría de la variables son significativas. Entre las variables más significativas que tienen un impacto positivo sobre el incumplimiento de pago tenemos:\n",
    "* balance_time.- saldo en el periodo de observación\n",
    "* interest_rate_time.- tasa de interés en el periodo de observación\n",
    "* LTV_orig_time.- Loan to Value en el momento de la originación\n",
    "* hpi_orig_time.- índice de precios de casa en el momento de la originación"
   ]
  },
  {
   "cell_type": "markdown",
   "metadata": {},
   "source": [
    "Las variables menos significativas son \"REtype_CO_orig_time\" y \"REtype_SF_orig_time, ambas con coeficientes positivos y muy bajos. Estas varaibles son identificadoras del tipo de vivienda.\n",
    "La variable rate_time, tampoco es significativa"
   ]
  },
  {
   "cell_type": "markdown",
   "metadata": {},
   "source": [
    "Se aplica el modelo a la base y se guarda en data2"
   ]
  },
  {
   "cell_type": "code",
   "execution_count": 85,
   "metadata": {},
   "outputs": [],
   "source": [
    "PD_logit_model = pd.DataFrame(model_lr.fittedvalues, columns=['PD_logit_model'])\n",
    "data2 = pd.merge(data[['default_time','time']],PD_logit_model, right_index=True, left_index=True)"
   ]
  },
  {
   "cell_type": "markdown",
   "metadata": {},
   "source": [
    "Usamos la función de utils para graficar"
   ]
  },
  {
   "cell_type": "code",
   "execution_count": 86,
   "metadata": {},
   "outputs": [
    {
     "data": {
      "image/png": "[encoded data removed]",
      "text/plain": [
       "<Figure size 432x288 with 1 Axes>"
      ]
     },
     "metadata": {
      "needs_background": "light"
     },
     "output_type": "display_data"
    }
   ],
   "source": [
    "utils2.grafica_medias(data2.PD_logit_model, data2.default_time, data2.time)"
   ]
  },
  {
   "cell_type": "markdown",
   "metadata": {},
   "source": [
    "Revisamos el ajuste"
   ]
  },
  {
   "cell_type": "code",
   "execution_count": 87,
   "metadata": {},
   "outputs": [
    {
     "data": {
      "image/png": "[encoded data removed]",
      "text/plain": [
       "<Figure size 432x288 with 1 Axes>"
      ]
     },
     "metadata": {
      "needs_background": "light"
     },
     "output_type": "display_data"
    }
   ],
   "source": [
    "utils2.grafica_ajuste(data2.PD_logit_model, data2.default_time, data2.time)"
   ]
  },
  {
   "cell_type": "markdown",
   "metadata": {},
   "source": [
    "### Parte 2. Análisis de componentes principales para reducción de dimensionalidad"
   ]
  },
  {
   "cell_type": "markdown",
   "metadata": {},
   "source": [
    "El analisis de componentes principales se hará para ejemplificar la reduccion de dimensionalidad de la variable \"estado\".\n",
    "\n",
    "La variable de estado tiene los siguientes valores:"
   ]
  },
  {
   "cell_type": "code",
   "execution_count": 88,
   "metadata": {},
   "outputs": [
    {
     "data": {
      "text/plain": [
       "array(['KY', 'CO', 'GA', 'TN', 'CA', 'AL', 'NJ', 'DC', 'NC', 'NY', 'FL',\n",
       "       'WA', 'MD', 'AZ', 'SC', 'MN', 'TX', 'VA', 'OH', 'CT', 'ME', 'MI',\n",
       "       'WI', 'PA', 'OK', 'NV', 'MA', 'LA', 'IL', 'NE', 'ND', 'MO', 'MT',\n",
       "       'AR', 'OR', 'NM', 'UT', 'IA', 'SD', 'ID', 'HI', 'RI', 'IN', 'WV',\n",
       "       'VT', 'MS', 'NH', 'DE', 'KS', 'WY', 'PR', 'AK'], dtype=object)"
      ]
     },
     "execution_count": 88,
     "metadata": {},
     "output_type": "execute_result"
    }
   ],
   "source": [
    "data.state_orig_time.unique()"
   ]
  },
  {
   "cell_type": "markdown",
   "metadata": {},
   "source": [
    "Una forma de incorporar esta variable es construir dummies con valores de 0 y 1 esto implicaría tener más de 50 variables\n",
    "\n",
    "Sin embargo podemos reducir dimensionalidad con el análisis de PCA\n",
    "\n",
    "Primero calcularemos las probabilidades de default de esta vaariable porque es lo que queremos ajustar.\n"
   ]
  },
  {
   "cell_type": "code",
   "execution_count": 89,
   "metadata": {},
   "outputs": [],
   "source": [
    "defaultrates_states1 = data.groupby(['time','state_orig_time'])['default_time'].mean().unstack(level=1).add_prefix('defaultrate_').fillna(0).reset_index(drop=False)"
   ]
  },
  {
   "cell_type": "code",
   "execution_count": 90,
   "metadata": {},
   "outputs": [
    {
     "data": {
      "text/plain": [
       "array([[-1.703, -0.13 , -0.353, ..., -0.412, -0.22 , -0.13 ],\n",
       "       [-1.646, -0.13 , -0.353, ..., -0.412, -0.22 , -0.13 ],\n",
       "       [-1.588, -0.13 , -0.353, ..., -0.412, -0.22 , -0.13 ],\n",
       "       ...,\n",
       "       [ 1.588, -0.13 , -0.353, ..., -0.412, -0.22 , -0.13 ],\n",
       "       [ 1.646, -0.13 , -0.353, ..., -0.412, -0.22 , -0.13 ],\n",
       "       [ 1.703, -0.13 , -0.353, ..., -0.412, -0.22 , -0.13 ]])"
      ]
     },
     "execution_count": 90,
     "metadata": {},
     "output_type": "execute_result"
    }
   ],
   "source": [
    "# Ahora estandarizamos estos datos  y los ponemos en una matriz\n",
    "scaler = StandardScaler()\n",
    "defaultrates_states = scaler.fit_transform(defaultrates_states1)\n",
    "defaultrates_states"
   ]
  },
  {
   "cell_type": "markdown",
   "metadata": {},
   "source": [
    "Hacemos el anaĺisis de componentes principales utilizando el método de potencia y de deflación con la funcion potencia() y deflación() respectivamente de utils.pds.\n",
    "\n",
    "El análisis se hace con la  matriz defaultrates_states (las funciones obtienen la matriz de varianza covarianzas) "
   ]
  },
  {
   "cell_type": "code",
   "execution_count": 91,
   "metadata": {},
   "outputs": [
    {
     "data": {
      "text/plain": [
       "(array([6.468, 6.578, 6.585, 6.585, 6.585, 6.585, 6.585, 6.585, 6.585,\n",
       "        6.585, 6.585, 6.585, 6.585, 6.585, 6.585, 6.585, 6.585, 6.585,\n",
       "        6.585, 6.585, 6.585, 6.585, 6.585, 6.585, 6.585, 6.585, 6.585,\n",
       "        6.585, 6.585, 6.585, 6.585, 6.585, 6.585, 6.585, 6.585, 6.585,\n",
       "        6.585, 6.585, 6.585, 6.585, 6.585, 6.585, 6.585, 6.585, 6.585,\n",
       "        6.585, 6.585, 6.585, 6.585, 6.585, 6.585, 6.585, 6.585, 6.585,\n",
       "        6.585, 6.585, 6.585, 6.585, 6.585, 6.585, 6.585, 6.585, 6.585,\n",
       "        6.585, 6.585, 6.585, 6.585, 6.585, 6.585, 6.585, 6.585, 6.585,\n",
       "        6.585, 6.585, 6.585, 6.585, 6.585, 6.585, 6.585, 6.585, 6.585,\n",
       "        6.585, 6.585, 6.585, 6.585, 6.585, 6.585, 6.585, 6.585, 6.585,\n",
       "        6.585, 6.585, 6.585, 6.585, 6.585, 6.585, 6.585, 6.585, 6.585,\n",
       "        6.585, 6.585, 6.585, 6.585, 6.585, 6.585, 6.585, 6.585, 6.585,\n",
       "        6.585, 6.585, 6.585, 6.585, 6.585, 6.585, 6.585, 6.585, 6.585,\n",
       "        6.585, 6.585, 6.585, 6.585, 6.585, 6.585, 6.585, 6.585, 6.585,\n",
       "        6.585, 6.585, 6.585, 6.585, 6.585, 6.585, 6.585, 6.585, 6.585,\n",
       "        6.585, 6.585, 6.585, 6.585, 6.585, 6.585, 6.585, 6.585, 6.585,\n",
       "        6.585, 6.585, 6.585, 6.585, 6.585, 6.585]),\n",
       " array([ 0.176,  0.12 ,  0.015,  0.08 ,  0.276,  0.318,  0.005,  0.196,\n",
       "         0.014,  0.133,  0.268,  0.033,  0.141,  0.013,  0.136,  0.135,\n",
       "         0.127,  0.089,  0.043,  0.127,  0.194, -0.03 ,  0.049,  0.189,\n",
       "        -0.003, -0.01 ,  0.185,  0.142, -0.08 ,  0.   ,  0.043,  0.124,\n",
       "         0.164, -0.033,  0.282,  0.229, -0.005,  0.075,  0.181,  0.233,\n",
       "         0.02 ,  0.15 ,  0.023,  0.061, -0.019,  0.105, -0.008,  0.198,\n",
       "         0.   ,  0.065,  0.108,  0.195, -0.055]))"
      ]
     },
     "execution_count": 91,
     "metadata": {},
     "output_type": "execute_result"
    }
   ],
   "source": [
    "utils2.potencia(d = defaultrates_states, cor=False, MAX=150)"
   ]
  },
  {
   "cell_type": "markdown",
   "metadata": {},
   "source": [
    "Ahora con deflación encontramos la segunda componente principal"
   ]
  },
  {
   "cell_type": "code",
   "execution_count": 92,
   "metadata": {},
   "outputs": [
    {
     "data": {
      "text/plain": [
       "(array([1.609, 2.008, 2.242, 2.446, 2.623, 2.754, 2.838, 2.888, 2.916,\n",
       "        2.932, 2.941, 2.947, 2.95 , 2.953, 2.954, 2.955, 2.956, 2.957,\n",
       "        2.957, 2.958, 2.958, 2.958, 2.958, 2.958, 2.959, 2.959, 2.959,\n",
       "        2.959, 2.959, 2.959, 2.959, 2.959, 2.959, 2.959, 2.959, 2.959,\n",
       "        2.959, 2.959, 2.959, 2.959, 2.959, 2.959, 2.959, 2.959, 2.959,\n",
       "        2.959, 2.959, 2.959, 2.959, 2.959, 2.959, 2.959, 2.959, 2.959,\n",
       "        2.959, 2.959, 2.959, 2.959, 2.959, 2.959, 2.959, 2.959, 2.959,\n",
       "        2.959, 2.959, 2.959, 2.959, 2.959, 2.959, 2.959, 2.959, 2.959,\n",
       "        2.959, 2.959, 2.959, 2.959, 2.959, 2.959, 2.959, 2.959, 2.959,\n",
       "        2.959, 2.959, 2.959, 2.959, 2.959, 2.959, 2.959, 2.959, 2.959,\n",
       "        2.959, 2.959, 2.959, 2.959, 2.959, 2.959, 2.959, 2.959, 2.959,\n",
       "        2.959, 2.959, 2.959, 2.959, 2.959, 2.959, 2.959, 2.959, 2.959,\n",
       "        2.959, 2.959, 2.959, 2.959, 2.959, 2.959, 2.959, 2.959, 2.959,\n",
       "        2.959, 2.959, 2.959, 2.959, 2.959, 2.959, 2.959, 2.959, 2.959,\n",
       "        2.959, 2.959, 2.959, 2.959, 2.959, 2.959, 2.959, 2.959, 2.959,\n",
       "        2.959, 2.959, 2.959, 2.959, 2.959, 2.959, 2.959, 2.959, 2.959,\n",
       "        2.959, 2.959, 2.959, 2.959, 2.959, 2.959]),\n",
       " array([ 0.031, -0.224,  0.127,  0.078, -0.137,  0.064,  0.142,  0.021,\n",
       "         0.051, -0.136,  0.074,  0.008,  0.018,  0.134,  0.139,  0.191,\n",
       "        -0.024,  0.02 ,  0.12 , -0.003,  0.15 ,  0.066,  0.018,  0.234,\n",
       "        -0.065, -0.12 , -0.172,  0.046,  0.101,  0.   ,  0.042,  0.081,\n",
       "         0.052, -0.039,  0.101, -0.306, -0.222, -0.106, -0.024,  0.066,\n",
       "         0.038,  0.121, -0.041,  0.062,  0.173, -0.26 ,  0.067, -0.03 ,\n",
       "         0.   , -0.352, -0.414,  0.156,  0.013]))"
      ]
     },
     "execution_count": 92,
     "metadata": {},
     "output_type": "execute_result"
    }
   ],
   "source": [
    "utils2.deflacion(d = defaultrates_states, cor=False, MAX=150)"
   ]
  },
  {
   "cell_type": "markdown",
   "metadata": {},
   "source": [
    "Generamos la matríz de proyección a partir de los pares autovalor-autovector para la primera y segunda componente para obtener el mapeo a nuestra base"
   ]
  },
  {
   "cell_type": "code",
   "execution_count": 93,
   "metadata": {},
   "outputs": [],
   "source": [
    "matrix_w2 = np.hstack((utils2.potencia(d = defaultrates_states, cor=False, MAX=150)[1].reshape(53,1),\n",
    "                      (utils2.deflacion(d = defaultrates_states, cor=False, MAX=150)[1]*-1).reshape(53,1)))\n",
    "\n",
    "# Proyectamos\n",
    "\n",
    "Y = defaultrates_states.dot(matrix_w2)"
   ]
  },
  {
   "cell_type": "code",
   "execution_count": 94,
   "metadata": {},
   "outputs": [
    {
     "data": {
      "text/plain": [
       "array([[-2.775,  0.018],\n",
       "       [-2.765,  0.016],\n",
       "       [-2.609,  1.2  ],\n",
       "       [-1.863,  0.126],\n",
       "       [-2.814, -1.478],\n",
       "       [-3.401, -1.696],\n",
       "       [-2.514,  3.225],\n",
       "       [-2.723,  0.898],\n",
       "       [-2.654,  0.2  ],\n",
       "       [-1.789, -2.901],\n",
       "       [-2.686,  0.242],\n",
       "       [-1.88 , -0.158],\n",
       "       [-1.195,  1.613],\n",
       "       [-2.702, -0.505],\n",
       "       [-2.648,  0.737],\n",
       "       [ 1.27 ,  7.501],\n",
       "       [-2.731, -0.281],\n",
       "       [-1.758, -1.072],\n",
       "       [-1.031, -2.092],\n",
       "       [-2.059, -1.076],\n",
       "       [-0.718,  1.412],\n",
       "       [-2.124, -0.629],\n",
       "       [-1.413, -0.471],\n",
       "       [-2.092,  0.319],\n",
       "       [-1.086,  0.057],\n",
       "       [-1.441, -0.499],\n",
       "       [ 1.512,  0.745],\n",
       "       [-0.701, -1.569],\n",
       "       [ 2.818,  0.09 ],\n",
       "       [ 0.652, -1.181],\n",
       "       [ 3.046, -1.384],\n",
       "       [ 5.054, -0.591],\n",
       "       [ 3.318, -0.14 ],\n",
       "       [ 3.728,  0.16 ],\n",
       "       [ 5.961,  4.996],\n",
       "       [ 7.539, -3.379],\n",
       "       [ 7.057, -1.025],\n",
       "       [ 2.911, -0.464],\n",
       "       [ 1.659, -0.305],\n",
       "       [ 1.918, -0.95 ],\n",
       "       [ 1.688, -0.851],\n",
       "       [ 0.432,  1.932],\n",
       "       [ 1.849, -0.673],\n",
       "       [-0.082, -2.358],\n",
       "       [ 3.277, -0.937],\n",
       "       [ 0.258,  2.325],\n",
       "       [ 0.965, -0.077],\n",
       "       [ 1.254, -0.156],\n",
       "       [ 0.864, -0.583],\n",
       "       [ 0.645,  0.494],\n",
       "       [-0.695,  0.293],\n",
       "       [ 0.923, -1.739],\n",
       "       [-0.448, -0.274],\n",
       "       [-1.103,  1.292],\n",
       "       [ 1.111,  3.228],\n",
       "       [-0.809, -0.515],\n",
       "       [-1.277,  0.029],\n",
       "       [-0.14 , -0.655],\n",
       "       [-0.71 , -0.475],\n",
       "       [-2.273, -0.01 ]])"
      ]
     },
     "execution_count": 94,
     "metadata": {},
     "output_type": "execute_result"
    }
   ],
   "source": [
    "Y"
   ]
  },
  {
   "cell_type": "markdown",
   "metadata": {},
   "source": [
    "Ahora usamos las funciones de pyton (PCA()) para comprobar la correspondencia del mapeo a la base"
   ]
  },
  {
   "cell_type": "code",
   "execution_count": 95,
   "metadata": {},
   "outputs": [
    {
     "data": {
      "image/png": "[encoded data removed]",
      "text/plain": [
       "<Figure size 432x288 with 1 Axes>"
      ]
     },
     "metadata": {
      "needs_background": "light"
     },
     "output_type": "display_data"
    }
   ],
   "source": [
    "#Graficamos el aporte en varianza de cada componente pricipal adicional\n",
    "pca=PCA()\n",
    "pca.fit(defaultrates_states)\n",
    "plt.plot(np.cumsum(pca.explained_variance_ratio_))\n",
    "plt.xlabel('Numero de Componentes Principales')\n",
    "plt.ylabel('Cumsum of explained variance ratio')\n",
    "plt.show()"
   ]
  },
  {
   "cell_type": "markdown",
   "metadata": {},
   "source": [
    "Hacemos el mapeo de las componentes"
   ]
  },
  {
   "cell_type": "code",
   "execution_count": 96,
   "metadata": {},
   "outputs": [
    {
     "data": {
      "text/plain": [
       "<function matplotlib.pyplot.show(*args, **kw)>"
      ]
     },
     "execution_count": 96,
     "metadata": {},
     "output_type": "execute_result"
    },
    {
     "data": {
      "image/png": "[encoded data removed]",
      "text/plain": [
       "<Figure size 432x288 with 1 Axes>"
      ]
     },
     "metadata": {
      "needs_background": "light"
     },
     "output_type": "display_data"
    }
   ],
   "source": [
    "z = pca.transform(defaultrates_states)\n",
    "plt.xlabel('Time')\n",
    "plt.ylabel('Componente Principal')\n",
    "plt.plot(defaultrates_states1.index, z[:,0], alpha =1, label = \"Primera componente principal\")\n",
    "plt.plot(defaultrates_states1.index, z[:,1], alpha =1, color = 'red', linestyle = 'dashed', label = \"Segunda componente priincipal\")\n",
    "plt.legend(loc='best')\n",
    "plt.show"
   ]
  },
  {
   "cell_type": "markdown",
   "metadata": {},
   "source": [
    "Revisamos que el mapeo corresponda con los valores obtenidos con la matriz de proyección (sí coincide)"
   ]
  },
  {
   "cell_type": "code",
   "execution_count": 99,
   "metadata": {},
   "outputs": [
    {
     "data": {
      "text/plain": [
       "array([[-2.775,  0.018],\n",
       "       [-2.765,  0.016],\n",
       "       [-2.609,  1.2  ],\n",
       "       [-1.863,  0.126],\n",
       "       [-2.814, -1.478],\n",
       "       [-3.401, -1.696],\n",
       "       [-2.514,  3.225],\n",
       "       [-2.723,  0.898],\n",
       "       [-2.654,  0.2  ],\n",
       "       [-1.789, -2.901],\n",
       "       [-2.686,  0.242],\n",
       "       [-1.88 , -0.158],\n",
       "       [-1.195,  1.613],\n",
       "       [-2.702, -0.505],\n",
       "       [-2.648,  0.737],\n",
       "       [ 1.27 ,  7.501],\n",
       "       [-2.731, -0.281],\n",
       "       [-1.758, -1.072],\n",
       "       [-1.031, -2.092],\n",
       "       [-2.059, -1.076],\n",
       "       [-0.718,  1.412],\n",
       "       [-2.124, -0.629],\n",
       "       [-1.413, -0.471],\n",
       "       [-2.092,  0.319],\n",
       "       [-1.086,  0.056],\n",
       "       [-1.441, -0.499],\n",
       "       [ 1.512,  0.745],\n",
       "       [-0.701, -1.57 ],\n",
       "       [ 2.818,  0.088],\n",
       "       [ 0.652, -1.182],\n",
       "       [ 3.046, -1.383],\n",
       "       [ 5.054, -0.591],\n",
       "       [ 3.318, -0.14 ],\n",
       "       [ 3.728,  0.159],\n",
       "       [ 5.961,  4.996],\n",
       "       [ 7.539, -3.379],\n",
       "       [ 7.057, -1.024],\n",
       "       [ 2.911, -0.464],\n",
       "       [ 1.659, -0.305],\n",
       "       [ 1.918, -0.951],\n",
       "       [ 1.688, -0.85 ],\n",
       "       [ 0.432,  1.933],\n",
       "       [ 1.849, -0.672],\n",
       "       [-0.082, -2.358],\n",
       "       [ 3.277, -0.937],\n",
       "       [ 0.258,  2.325],\n",
       "       [ 0.965, -0.077],\n",
       "       [ 1.254, -0.157],\n",
       "       [ 0.864, -0.582],\n",
       "       [ 0.645,  0.495],\n",
       "       [-0.695,  0.293],\n",
       "       [ 0.923, -1.738],\n",
       "       [-0.448, -0.274],\n",
       "       [-1.103,  1.292],\n",
       "       [ 1.111,  3.228],\n",
       "       [-0.809, -0.515],\n",
       "       [-1.277,  0.029],\n",
       "       [-0.14 , -0.655],\n",
       "       [-0.71 , -0.475],\n",
       "       [-2.273, -0.01 ]])"
      ]
     },
     "execution_count": 99,
     "metadata": {},
     "output_type": "execute_result"
    }
   ],
   "source": [
    "z = z[:,0:2]\n",
    "z"
   ]
  },
  {
   "cell_type": "markdown",
   "metadata": {},
   "source": [
    "Anexamos a la base estos valores"
   ]
  },
  {
   "cell_type": "code",
   "execution_count": 100,
   "metadata": {},
   "outputs": [
    {
     "data": {
      "text/html": [
       "<div>\n",
       "<style scoped>\n",
       "    .dataframe tbody tr th:only-of-type {\n",
       "        vertical-align: middle;\n",
       "    }\n",
       "\n",
       "    .dataframe tbody tr th {\n",
       "        vertical-align: top;\n",
       "    }\n",
       "\n",
       "    .dataframe thead th {\n",
       "        text-align: right;\n",
       "    }\n",
       "</style>\n",
       "<table border=\"1\" class=\"dataframe\">\n",
       "  <thead>\n",
       "    <tr style=\"text-align: right;\">\n",
       "      <th></th>\n",
       "      <th>id</th>\n",
       "      <th>time</th>\n",
       "      <th>orig_time</th>\n",
       "      <th>first_time</th>\n",
       "      <th>mat_time</th>\n",
       "      <th>res_time</th>\n",
       "      <th>balance_time</th>\n",
       "      <th>LTV_time</th>\n",
       "      <th>interest_rate_time</th>\n",
       "      <th>rate_time</th>\n",
       "      <th>...</th>\n",
       "      <th>Interest_Rate_orig_time</th>\n",
       "      <th>state_orig_time</th>\n",
       "      <th>hpi_orig_time</th>\n",
       "      <th>default_time</th>\n",
       "      <th>payoff_time</th>\n",
       "      <th>status_time</th>\n",
       "      <th>lgd_time</th>\n",
       "      <th>recovery_res</th>\n",
       "      <th>PCA1_1</th>\n",
       "      <th>PCA2_1</th>\n",
       "    </tr>\n",
       "  </thead>\n",
       "  <tbody>\n",
       "    <tr>\n",
       "      <th>0</th>\n",
       "      <td>4</td>\n",
       "      <td>25</td>\n",
       "      <td>-2</td>\n",
       "      <td>25</td>\n",
       "      <td>119</td>\n",
       "      <td>NaN</td>\n",
       "      <td>61031.10</td>\n",
       "      <td>33.911009</td>\n",
       "      <td>10.500</td>\n",
       "      <td>5.90</td>\n",
       "      <td>...</td>\n",
       "      <td>10.500</td>\n",
       "      <td>KY</td>\n",
       "      <td>97.99</td>\n",
       "      <td>0</td>\n",
       "      <td>0</td>\n",
       "      <td>0</td>\n",
       "      <td>NaN</td>\n",
       "      <td>NaN</td>\n",
       "      <td>-2.091759</td>\n",
       "      <td>0.319049</td>\n",
       "    </tr>\n",
       "    <tr>\n",
       "      <th>1</th>\n",
       "      <td>9</td>\n",
       "      <td>25</td>\n",
       "      <td>18</td>\n",
       "      <td>25</td>\n",
       "      <td>138</td>\n",
       "      <td>NaN</td>\n",
       "      <td>127156.28</td>\n",
       "      <td>65.642484</td>\n",
       "      <td>8.730</td>\n",
       "      <td>4.14</td>\n",
       "      <td>...</td>\n",
       "      <td>8.730</td>\n",
       "      <td>GA</td>\n",
       "      <td>186.91</td>\n",
       "      <td>0</td>\n",
       "      <td>0</td>\n",
       "      <td>0</td>\n",
       "      <td>NaN</td>\n",
       "      <td>NaN</td>\n",
       "      <td>-2.091759</td>\n",
       "      <td>0.319049</td>\n",
       "    </tr>\n",
       "    <tr>\n",
       "      <th>2</th>\n",
       "      <td>47</td>\n",
       "      <td>25</td>\n",
       "      <td>19</td>\n",
       "      <td>25</td>\n",
       "      <td>139</td>\n",
       "      <td>NaN</td>\n",
       "      <td>130286.14</td>\n",
       "      <td>66.793811</td>\n",
       "      <td>6.930</td>\n",
       "      <td>4.24</td>\n",
       "      <td>...</td>\n",
       "      <td>6.930</td>\n",
       "      <td>TN</td>\n",
       "      <td>191.42</td>\n",
       "      <td>0</td>\n",
       "      <td>0</td>\n",
       "      <td>0</td>\n",
       "      <td>NaN</td>\n",
       "      <td>NaN</td>\n",
       "      <td>-2.091759</td>\n",
       "      <td>0.319049</td>\n",
       "    </tr>\n",
       "    <tr>\n",
       "      <th>3</th>\n",
       "      <td>13</td>\n",
       "      <td>25</td>\n",
       "      <td>18</td>\n",
       "      <td>25</td>\n",
       "      <td>138</td>\n",
       "      <td>NaN</td>\n",
       "      <td>228957.49</td>\n",
       "      <td>65.211476</td>\n",
       "      <td>7.560</td>\n",
       "      <td>4.14</td>\n",
       "      <td>...</td>\n",
       "      <td>7.560</td>\n",
       "      <td>MN</td>\n",
       "      <td>186.91</td>\n",
       "      <td>0</td>\n",
       "      <td>0</td>\n",
       "      <td>0</td>\n",
       "      <td>NaN</td>\n",
       "      <td>NaN</td>\n",
       "      <td>-2.091759</td>\n",
       "      <td>0.319049</td>\n",
       "    </tr>\n",
       "    <tr>\n",
       "      <th>4</th>\n",
       "      <td>35</td>\n",
       "      <td>25</td>\n",
       "      <td>19</td>\n",
       "      <td>25</td>\n",
       "      <td>139</td>\n",
       "      <td>NaN</td>\n",
       "      <td>78586.07</td>\n",
       "      <td>66.810457</td>\n",
       "      <td>7.030</td>\n",
       "      <td>4.24</td>\n",
       "      <td>...</td>\n",
       "      <td>7.030</td>\n",
       "      <td>TX</td>\n",
       "      <td>191.42</td>\n",
       "      <td>0</td>\n",
       "      <td>0</td>\n",
       "      <td>0</td>\n",
       "      <td>NaN</td>\n",
       "      <td>NaN</td>\n",
       "      <td>-2.091759</td>\n",
       "      <td>0.319049</td>\n",
       "    </tr>\n",
       "    <tr>\n",
       "      <th>...</th>\n",
       "      <td>...</td>\n",
       "      <td>...</td>\n",
       "      <td>...</td>\n",
       "      <td>...</td>\n",
       "      <td>...</td>\n",
       "      <td>...</td>\n",
       "      <td>...</td>\n",
       "      <td>...</td>\n",
       "      <td>...</td>\n",
       "      <td>...</td>\n",
       "      <td>...</td>\n",
       "      <td>...</td>\n",
       "      <td>...</td>\n",
       "      <td>...</td>\n",
       "      <td>...</td>\n",
       "      <td>...</td>\n",
       "      <td>...</td>\n",
       "      <td>...</td>\n",
       "      <td>...</td>\n",
       "      <td>...</td>\n",
       "      <td>...</td>\n",
       "    </tr>\n",
       "    <tr>\n",
       "      <th>61780</th>\n",
       "      <td>37843</td>\n",
       "      <td>15</td>\n",
       "      <td>13</td>\n",
       "      <td>15</td>\n",
       "      <td>73</td>\n",
       "      <td>NaN</td>\n",
       "      <td>44042.18</td>\n",
       "      <td>62.876322</td>\n",
       "      <td>5.125</td>\n",
       "      <td>3.54</td>\n",
       "      <td>...</td>\n",
       "      <td>5.125</td>\n",
       "      <td>OK</td>\n",
       "      <td>149.70</td>\n",
       "      <td>0</td>\n",
       "      <td>0</td>\n",
       "      <td>0</td>\n",
       "      <td>NaN</td>\n",
       "      <td>NaN</td>\n",
       "      <td>-2.702444</td>\n",
       "      <td>-0.504520</td>\n",
       "    </tr>\n",
       "    <tr>\n",
       "      <th>61781</th>\n",
       "      <td>38271</td>\n",
       "      <td>15</td>\n",
       "      <td>9</td>\n",
       "      <td>12</td>\n",
       "      <td>129</td>\n",
       "      <td>NaN</td>\n",
       "      <td>638742.73</td>\n",
       "      <td>57.759641</td>\n",
       "      <td>5.750</td>\n",
       "      <td>4.86</td>\n",
       "      <td>...</td>\n",
       "      <td>5.750</td>\n",
       "      <td>CA</td>\n",
       "      <td>132.76</td>\n",
       "      <td>0</td>\n",
       "      <td>0</td>\n",
       "      <td>0</td>\n",
       "      <td>NaN</td>\n",
       "      <td>NaN</td>\n",
       "      <td>-2.702444</td>\n",
       "      <td>-0.504520</td>\n",
       "    </tr>\n",
       "    <tr>\n",
       "      <th>61782</th>\n",
       "      <td>38752</td>\n",
       "      <td>15</td>\n",
       "      <td>11</td>\n",
       "      <td>15</td>\n",
       "      <td>131</td>\n",
       "      <td>NaN</td>\n",
       "      <td>333958.30</td>\n",
       "      <td>65.428152</td>\n",
       "      <td>6.000</td>\n",
       "      <td>3.83</td>\n",
       "      <td>...</td>\n",
       "      <td>6.000</td>\n",
       "      <td>MD</td>\n",
       "      <td>142.18</td>\n",
       "      <td>0</td>\n",
       "      <td>0</td>\n",
       "      <td>0</td>\n",
       "      <td>NaN</td>\n",
       "      <td>NaN</td>\n",
       "      <td>-2.702444</td>\n",
       "      <td>-0.504520</td>\n",
       "    </tr>\n",
       "    <tr>\n",
       "      <th>61783</th>\n",
       "      <td>39221</td>\n",
       "      <td>15</td>\n",
       "      <td>8</td>\n",
       "      <td>12</td>\n",
       "      <td>128</td>\n",
       "      <td>NaN</td>\n",
       "      <td>471428.67</td>\n",
       "      <td>43.327570</td>\n",
       "      <td>6.250</td>\n",
       "      <td>5.42</td>\n",
       "      <td>...</td>\n",
       "      <td>6.250</td>\n",
       "      <td>CA</td>\n",
       "      <td>125.92</td>\n",
       "      <td>0</td>\n",
       "      <td>0</td>\n",
       "      <td>0</td>\n",
       "      <td>NaN</td>\n",
       "      <td>NaN</td>\n",
       "      <td>-2.702444</td>\n",
       "      <td>-0.504520</td>\n",
       "    </tr>\n",
       "    <tr>\n",
       "      <th>61784</th>\n",
       "      <td>40487</td>\n",
       "      <td>15</td>\n",
       "      <td>-4</td>\n",
       "      <td>2</td>\n",
       "      <td>56</td>\n",
       "      <td>NaN</td>\n",
       "      <td>56148.46</td>\n",
       "      <td>40.446417</td>\n",
       "      <td>10.500</td>\n",
       "      <td>5.25</td>\n",
       "      <td>...</td>\n",
       "      <td>10.500</td>\n",
       "      <td>IN</td>\n",
       "      <td>91.31</td>\n",
       "      <td>0</td>\n",
       "      <td>0</td>\n",
       "      <td>0</td>\n",
       "      <td>NaN</td>\n",
       "      <td>NaN</td>\n",
       "      <td>-2.702444</td>\n",
       "      <td>-0.504520</td>\n",
       "    </tr>\n",
       "  </tbody>\n",
       "</table>\n",
       "<p>61785 rows × 30 columns</p>\n",
       "</div>"
      ],
      "text/plain": [
       "          id  time  orig_time  first_time  mat_time  res_time  balance_time  \\\n",
       "0          4    25         -2          25       119       NaN      61031.10   \n",
       "1          9    25         18          25       138       NaN     127156.28   \n",
       "2         47    25         19          25       139       NaN     130286.14   \n",
       "3         13    25         18          25       138       NaN     228957.49   \n",
       "4         35    25         19          25       139       NaN      78586.07   \n",
       "...      ...   ...        ...         ...       ...       ...           ...   \n",
       "61780  37843    15         13          15        73       NaN      44042.18   \n",
       "61781  38271    15          9          12       129       NaN     638742.73   \n",
       "61782  38752    15         11          15       131       NaN     333958.30   \n",
       "61783  39221    15          8          12       128       NaN     471428.67   \n",
       "61784  40487    15         -4           2        56       NaN      56148.46   \n",
       "\n",
       "        LTV_time  interest_rate_time  rate_time  ...  Interest_Rate_orig_time  \\\n",
       "0      33.911009              10.500       5.90  ...                   10.500   \n",
       "1      65.642484               8.730       4.14  ...                    8.730   \n",
       "2      66.793811               6.930       4.24  ...                    6.930   \n",
       "3      65.211476               7.560       4.14  ...                    7.560   \n",
       "4      66.810457               7.030       4.24  ...                    7.030   \n",
       "...          ...                 ...        ...  ...                      ...   \n",
       "61780  62.876322               5.125       3.54  ...                    5.125   \n",
       "61781  57.759641               5.750       4.86  ...                    5.750   \n",
       "61782  65.428152               6.000       3.83  ...                    6.000   \n",
       "61783  43.327570               6.250       5.42  ...                    6.250   \n",
       "61784  40.446417              10.500       5.25  ...                   10.500   \n",
       "\n",
       "       state_orig_time  hpi_orig_time  default_time  payoff_time  status_time  \\\n",
       "0                   KY          97.99             0            0            0   \n",
       "1                   GA         186.91             0            0            0   \n",
       "2                   TN         191.42             0            0            0   \n",
       "3                   MN         186.91             0            0            0   \n",
       "4                   TX         191.42             0            0            0   \n",
       "...                ...            ...           ...          ...          ...   \n",
       "61780               OK         149.70             0            0            0   \n",
       "61781               CA         132.76             0            0            0   \n",
       "61782               MD         142.18             0            0            0   \n",
       "61783               CA         125.92             0            0            0   \n",
       "61784               IN          91.31             0            0            0   \n",
       "\n",
       "       lgd_time  recovery_res    PCA1_1    PCA2_1  \n",
       "0           NaN           NaN -2.091759  0.319049  \n",
       "1           NaN           NaN -2.091759  0.319049  \n",
       "2           NaN           NaN -2.091759  0.319049  \n",
       "3           NaN           NaN -2.091759  0.319049  \n",
       "4           NaN           NaN -2.091759  0.319049  \n",
       "...         ...           ...       ...       ...  \n",
       "61780       NaN           NaN -2.702444 -0.504520  \n",
       "61781       NaN           NaN -2.702444 -0.504520  \n",
       "61782       NaN           NaN -2.702444 -0.504520  \n",
       "61783       NaN           NaN -2.702444 -0.504520  \n",
       "61784       NaN           NaN -2.702444 -0.504520  \n",
       "\n",
       "[61785 rows x 30 columns]"
      ]
     },
     "execution_count": 100,
     "metadata": {},
     "output_type": "execute_result"
    }
   ],
   "source": [
    "Z = pd.DataFrame(data=z, columns=['PCA1', 'PCA2'])\n",
    "Z_1 = Z.shift(1).add_suffix('_1')\n",
    "defaultrates_states2 = pd.concat([defaultrates_states1['time'], Z_1], axis=1).dropna(subset=['PCA1_1']).copy() \n",
    "data_con_pca = pd.merge(data, defaultrates_states2, on='time')\n",
    "data_con_pca"
   ]
  },
  {
   "cell_type": "markdown",
   "metadata": {},
   "source": [
    "### 3.2 Ajuste final considerando variables discriminadas por regresión logísitica y análisis de PCA"
   ]
  },
  {
   "cell_type": "markdown",
   "metadata": {},
   "source": [
    "Finalmente hacemos el ajuste final con las variables con mejor p value y adicionamos componentes principales. En primer lugar con el optimizador visto en clase"
   ]
  },
  {
   "cell_type": "code",
   "execution_count": 102,
   "metadata": {},
   "outputs": [
    {
     "name": "stdout",
     "output_type": "stream",
     "text": [
      "61785\n",
      "Evaluación de valor óptimo al resolver problema de optimización 13227.950040762656\n"
     ]
    },
    {
     "data": {
      "text/plain": [
       "(array([0.006, 0.019, 0.01 , ..., 0.007, 0.003, 0.009]),\n",
       " array([-3.873,  0.   , -0.003,  0.188, -0.015, -0.037, -0.059,  0.16 ,\n",
       "         0.199, -0.   , -0.004,  0.022, -0.02 ,  0.014,  0.059, -0.02 ]))"
      ]
     },
     "execution_count": 102,
     "metadata": {},
     "output_type": "execute_result"
    }
   ],
   "source": [
    "utils2.estim_prob(data=data_con_pca, variables = ['default_time', 'balance_time', 'LTV_time', 'interest_rate_time', 'hpi_time', 'gdp_time', 'uer_time', 'REtype_PU_orig_time', 'investor_orig_time', 'balance_orig_time', 'FICO_orig_time', 'LTV_orig_time', 'Interest_Rate_orig_time', 'hpi_orig_time', 'PCA1_1', 'PCA2_1'], default = \"default_time\")"
   ]
  },
  {
   "cell_type": "markdown",
   "metadata": {},
   "source": [
    "Hacemos lo mismo con la función glm, nótese que los coeficientes coinciden"
   ]
  },
  {
   "cell_type": "code",
   "execution_count": 104,
   "metadata": {},
   "outputs": [
    {
     "name": "stdout",
     "output_type": "stream",
     "text": [
      "                 Generalized Linear Model Regression Results                  \n",
      "==============================================================================\n",
      "Dep. Variable:           default_time   No. Observations:                61785\n",
      "Model:                            GLM   Df Residuals:                    61769\n",
      "Model Family:                Binomial   Df Model:                           15\n",
      "Link Function:                  logit   Scale:                          1.0000\n",
      "Method:                          IRLS   Log-Likelihood:                -6614.0\n",
      "Date:                Tue, 08 Dec 2020   Deviance:                       13228.\n",
      "Time:                        12:01:28   Pearson chi2:                 5.74e+04\n",
      "No. Iterations:                     8                                         \n",
      "Covariance Type:            nonrobust                                         \n",
      "===========================================================================================\n",
      "                              coef    std err          z      P>|z|      [0.025      0.975]\n",
      "-------------------------------------------------------------------------------------------\n",
      "Intercept                  -3.8728      0.600     -6.450      0.000      -5.050      -2.696\n",
      "balance_time             9.085e-06   1.59e-06      5.707      0.000    5.96e-06    1.22e-05\n",
      "LTV_time                   -0.0029      0.002     -1.878      0.060      -0.006       0.000\n",
      "interest_rate_time          0.1875      0.016     11.886      0.000       0.157       0.218\n",
      "hpi_time                   -0.0145      0.002     -7.460      0.000      -0.018      -0.011\n",
      "gdp_time                   -0.0373      0.021     -1.754      0.080      -0.079       0.004\n",
      "uer_time                   -0.0586      0.023     -2.580      0.010      -0.103      -0.014\n",
      "REtype_PU_orig_time         0.1600      0.079      2.024      0.043       0.005       0.315\n",
      "investor_orig_time          0.1988      0.080      2.487      0.013       0.042       0.355\n",
      "balance_orig_time       -8.587e-06   1.65e-06     -5.211      0.000   -1.18e-05   -5.36e-06\n",
      "FICO_orig_time             -0.0039      0.000     -8.842      0.000      -0.005      -0.003\n",
      "LTV_orig_time               0.0218      0.003      6.769      0.000       0.015       0.028\n",
      "Interest_Rate_orig_time    -0.0203      0.008     -2.430      0.015      -0.037      -0.004\n",
      "hpi_orig_time               0.0142      0.001     10.995      0.000       0.012       0.017\n",
      "PCA1_1                      0.0587      0.018      3.211      0.001       0.023       0.095\n",
      "PCA2_1                     -0.0200      0.015     -1.325      0.185      -0.049       0.010\n",
      "===========================================================================================\n"
     ]
    }
   ],
   "source": [
    "model_lr_pca = smf.glm('default_time ~ balance_time + LTV_time + interest_rate_time + hpi_time + gdp_time + uer_time + REtype_PU_orig_time + investor_orig_time + balance_orig_time + FICO_orig_time + LTV_orig_time + Interest_Rate_orig_time + hpi_orig_time+ PCA1_1 + PCA2_1', family = sm.families.Binomial(), data = data_con_pca).fit()\n",
    "print(model_lr_pca.summary())"
   ]
  },
  {
   "cell_type": "markdown",
   "metadata": {},
   "source": [
    "Se aplica el modelo a la base\n"
   ]
  },
  {
   "cell_type": "code",
   "execution_count": 105,
   "metadata": {},
   "outputs": [],
   "source": [
    "PD_logit_model_pca = pd.DataFrame(model_lr_pca.fittedvalues, columns=['PD_logit_model'])\n",
    "# Hacemos una tabla con default o no default para cada tiempo que estamos estimando y su respectiva probabilidad\n",
    "data3 = pd.merge(data_con_pca[['default_time','time']],PD_logit_model_pca, right_index=True, left_index=True)"
   ]
  },
  {
   "cell_type": "markdown",
   "metadata": {},
   "source": [
    "Vemos nuestras graficas de ajuste"
   ]
  },
  {
   "cell_type": "code",
   "execution_count": 106,
   "metadata": {},
   "outputs": [
    {
     "data": {
      "image/png": "[encoded data removed]",
      "text/plain": [
       "<Figure size 432x288 with 1 Axes>"
      ]
     },
     "metadata": {
      "needs_background": "light"
     },
     "output_type": "display_data"
    }
   ],
   "source": [
    "utils2.grafica_medias(data3.PD_logit_model, data3.default_time, data3.time)"
   ]
  },
  {
   "cell_type": "code",
   "execution_count": 107,
   "metadata": {},
   "outputs": [
    {
     "data": {
      "image/png": "[encoded data removed]",
      "text/plain": [
       "<Figure size 432x288 with 1 Axes>"
      ]
     },
     "metadata": {
      "needs_background": "light"
     },
     "output_type": "display_data"
    }
   ],
   "source": [
    "utils2.grafica_ajuste(data3.PD_logit_model, data3.default_time, data3.time)"
   ]
  }
 ],
 "metadata": {
  "kernelspec": {
   "display_name": "Python 3",
   "language": "python",
   "name": "python3"
  },
  "language_info": {
   "codemirror_mode": {
    "name": "ipython",
    "version": 3
   },
   "file_extension": ".py",
   "mimetype": "text/x-python",
   "name": "python",
   "nbconvert_exporter": "python",
   "pygments_lexer": "ipython3",
   "version": "3.8.3"
  }
 },
 "nbformat": 4,
 "nbformat_minor": 4
}
